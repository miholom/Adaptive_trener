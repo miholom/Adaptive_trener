{
 "cells": [
  {
   "cell_type": "code",
   "execution_count": 9,
   "metadata": {},
   "outputs": [
    {
     "name": "stdout",
     "output_type": "stream",
     "text": [
      "['Beautiful', 'is', 'better', 'than', 'ugly.', 'Explicit', 'is', 'better', 'than', 'implicit.']\n",
      "2: 2\n",
      "4: 2\n",
      "5: 1\n",
      "6: 2\n",
      "8: 1\n",
      "9: 2\n"
     ]
    }
   ],
   "source": [
    "\"\"\"\n",
    "На вход программе подаётся строка, содержащая слова, разделённые пробелом. Программа должна вывести статистику длин слов в полученной строке, от меньшей длины слова к большей (см. пример).\n",
    "\n",
    "Словом считается последовательность произвольных символов, окружённая пробелами либо границами строки. Заметьте, что знаки препинания также относятся к слову.\n",
    "\n",
    "Формат ввода:\n",
    "Одна строка, содержащая последовательности латинских символов и знаков препинания, разделённые пробелом.\n",
    "\n",
    "Формат вывода:\n",
    "Для каждой длины слова, встречающейся в исходной строке, нужно указать количество слов с такой длиной\n",
    "длина: количество\n",
    "Статистика должна выводиться в порядке увеличения длины.\n",
    "\"\"\"\n",
    "\n",
    "input_data = input().split()                                # ввод, после разделяем по пробелу\n",
    "\n",
    "data_dict = dict()                                          # создаем словарь\n",
    "\n",
    "for i in input_data:                                        # проверяем в цикле длину слова, \n",
    "    a = len(i)                                              # если нет в словаре добавляем в словарь, \n",
    "    if a not in data_dict:                                  # если есть в словаре, то прибавляем значение\n",
    "        data_dict[a] = 1\n",
    "    else:\n",
    "        data_dict[a] += 1\n",
    "\n",
    "sorted_data_dict = dict(sorted(data_dict.items()))          # сортируем словарь по ключам\n",
    "\n",
    "for keys,values in sorted_data_dict.items():                # выводи на экран получившиеся данные\n",
    "    print(f\"{keys}: {values}\", end=\"\\n\")"
   ]
  },
  {
   "cell_type": "code",
   "execution_count": 8,
   "metadata": {},
   "outputs": [
    {
     "name": "stdout",
     "output_type": "stream",
     "text": [
      "['Beautiful', 'is', 'better', 'than', 'ugly.', 'Explicit', 'is', 'better', 'than', 'implicit.']\n",
      "2: 2\n",
      "4: 2\n",
      "5: 1\n",
      "6: 2\n",
      "8: 1\n",
      "9: 2\n"
     ]
    }
   ],
   "source": [
    "\"\"\"Test strings\"\"\"\n",
    "\n",
    "input_data = \"Beautiful is better than ugly. Explicit is better than implicit.\".split()\n",
    "\n",
    "print(input_data)\n",
    "\n",
    "data_dict = dict()\n",
    "\n",
    "for i in input_data:\n",
    "    a = len(i)\n",
    "    if a not in data_dict:\n",
    "        data_dict[a] = 1\n",
    "    else:\n",
    "        data_dict[a] += 1\n",
    "\n",
    "sorted_data_dict = dict(sorted(data_dict.items()))\n",
    "\n",
    "for keys,values in sorted_data_dict.items():\n",
    "    print(f\"{keys}: {values}\", end=\"\\n\")\n"
   ]
  }
 ],
 "metadata": {
  "kernelspec": {
   "display_name": "Python 3",
   "language": "python",
   "name": "python3"
  },
  "language_info": {
   "codemirror_mode": {
    "name": "ipython",
    "version": 3
   },
   "file_extension": ".py",
   "mimetype": "text/x-python",
   "name": "python",
   "nbconvert_exporter": "python",
   "pygments_lexer": "ipython3",
   "version": "3.10.6"
  },
  "orig_nbformat": 4
 },
 "nbformat": 4,
 "nbformat_minor": 2
}
