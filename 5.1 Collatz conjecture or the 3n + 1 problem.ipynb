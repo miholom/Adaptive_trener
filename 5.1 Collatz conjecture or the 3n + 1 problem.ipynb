{
 "cells": [
  {
   "cell_type": "code",
   "execution_count": 30,
   "metadata": {},
   "outputs": [
    {
     "name": "stdout",
     "output_type": "stream",
     "text": [
      "17 52 26 13 40 20 10 5 16 8 4 2 1\n"
     ]
    }
   ],
   "source": [
    "\"\"\"\n",
    "Напишите функцию, которая для заданного натурального числа n генерирует последовательность чисел, описанную в гипотезе Коллатца:\n",
    "\n",
    "Если n четное, то делим его пополам, если нечётное, то умножаем на 3 и прибавляем 1. С итогом вычисления снова проделываем эту операцию до тех пор, пока в результате не будет получено число 1.\n",
    "\n",
    "Например, для числа n = 17 последовательность вычислений выглядит следующим образом:\n",
    "17, 52, 26, 13, 40, 20, 10, 5, 16, 8, 4, 2, 1\n",
    "\n",
    "Предполагается, что подобная последовательность остановится на числе 1 для любого начального натурального числа n. \n",
    "\n",
    "Формат ввода:\n",
    "Строка, содержащая единственное целое число n, n>0.\n",
    "\n",
    "Формат вывода:\n",
    "Строка, содержащая последовательность целых чисел, разделённых пробелом.\n",
    "\"\"\"\n",
    "n: int = int(input())                          # Получаем данные на вход        \n",
    "\n",
    "while True:                                    # Проводим валидацию на ноль                                                \n",
    "    if n == 0:\n",
    "        n: int = int(input())\n",
    "    else:\n",
    "        break\n",
    "\n",
    "def kallaca(n):                                # Функция с двумя условиями и после добавляет единицу в список\n",
    "    test_list: str = []\n",
    "    \n",
    "    while n > 1:\n",
    "        if n%2 == 0:\n",
    "            test_list.append(n)\n",
    "            n = int(n/2)\n",
    "        elif n%2 != 0:\n",
    "            test_list.append(n)\n",
    "            n = int((n*3)+1)\n",
    "\n",
    "    if n == 1:\n",
    "        test_list.append(n)\n",
    "    \n",
    "    return test_list\n",
    "   \n",
    "print(*kallaca(n))                             # Вывод результата функции на экран"
   ]
  },
  {
   "cell_type": "code",
   "execution_count": 21,
   "metadata": {},
   "outputs": [
    {
     "name": "stdout",
     "output_type": "stream",
     "text": [
      "17 52 26 13 40 20 10 5 16 8 4 2 1\n"
     ]
    }
   ],
   "source": [
    "\"\"\"test version 0\"\"\"\n",
    "n = 17\n",
    "\n",
    "test_list = list()\n",
    "\n",
    "while n > 1:\n",
    "    if n%2 == 0:\n",
    "        test_list.append(n)\n",
    "        n = int(n/2)\n",
    "    elif n%2 != 0:\n",
    "        test_list.append(n)\n",
    "        n = int((n*3)+1)\n",
    "\n",
    "if n == 1:\n",
    "    test_list.append(n)\n",
    "\n",
    "print(*test_list)"
   ]
  }
 ],
 "metadata": {
  "kernelspec": {
   "display_name": "Python 3",
   "language": "python",
   "name": "python3"
  },
  "language_info": {
   "codemirror_mode": {
    "name": "ipython",
    "version": 3
   },
   "file_extension": ".py",
   "mimetype": "text/x-python",
   "name": "python",
   "nbconvert_exporter": "python",
   "pygments_lexer": "ipython3",
   "version": "3.10.6"
  },
  "orig_nbformat": 4
 },
 "nbformat": 4,
 "nbformat_minor": 2
}
