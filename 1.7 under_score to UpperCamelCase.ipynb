{
 "cells": [
  {
   "cell_type": "code",
   "execution_count": 12,
   "metadata": {},
   "outputs": [
    {
     "name": "stdout",
     "output_type": "stream",
     "text": [
      "MyFirstClass"
     ]
    }
   ],
   "source": [
    "\"\"\"\n",
    "Вы решили написать преобразователь кода на Python в код на Java. Так как на Java принят стандарт наименования CamelCase, то вы решили научиться преобразовывать имена из underscore в этот формат. \n",
    "\n",
    "Для начала напишите программу, которая переводит имена переменных из стиля написания underscore в стиль UpperCamelCase.\n",
    "\n",
    "Стиль underscore характеризуется тем, что слова в имени пишутся маленькими буквами и разделяются между собой символом подчёркивания \"_\". Стиль UpperCamelCase означает, что каждое слово пишется с большой буквы и разделителей между словами нет.\n",
    "\n",
    "Формат ввода:\n",
    "Одна строка, содержащая имя, записанное в формате underscore.\n",
    "\n",
    "Формат вывода:\n",
    "Строка, содержащая пришедшее имя в формате UpperCamelCase.\n",
    "\"\"\"\n",
    "\n",
    "input_data: str = input().split(\"_\")\n",
    "\n",
    "def upcase_first_letter(word):                     # func upper\n",
    "    return word[0].upper() + word[1:]\n",
    "\n",
    "for index, word in enumerate(input_data):\n",
    "    input_data[index] = upcase_first_letter(word)  # cycle for upper word in list\n",
    "\n",
    "for i in input_data:                               # output readied data \n",
    "    print(i, end=\"\")"
   ]
  },
  {
   "cell_type": "code",
   "execution_count": 11,
   "metadata": {},
   "outputs": [
    {
     "name": "stdout",
     "output_type": "stream",
     "text": [
      "MyFirstClass"
     ]
    }
   ],
   "source": [
    "input_data = \"my_first_class\".split(\"_\")\n",
    "\n",
    "def upcase_first_letter(word):\n",
    "    return word[0].upper() + word[1:]\n",
    "\n",
    "for index, word in enumerate(input_data):\n",
    "    input_data[index] = upcase_first_letter(word)\n",
    "\n",
    "for i in input_data:\n",
    "    print(i, end=\"\")"
   ]
  }
 ],
 "metadata": {
  "kernelspec": {
   "display_name": "Python 3",
   "language": "python",
   "name": "python3"
  },
  "language_info": {
   "codemirror_mode": {
    "name": "ipython",
    "version": 3
   },
   "file_extension": ".py",
   "mimetype": "text/x-python",
   "name": "python",
   "nbconvert_exporter": "python",
   "pygments_lexer": "ipython3",
   "version": "3.10.6"
  },
  "orig_nbformat": 4
 },
 "nbformat": 4,
 "nbformat_minor": 2
}
