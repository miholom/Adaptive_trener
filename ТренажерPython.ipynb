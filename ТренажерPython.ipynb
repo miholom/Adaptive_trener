{
 "cells": [
  {
   "cell_type": "code",
   "execution_count": 14,
   "metadata": {},
   "outputs": [
    {
     "name": "stdout",
     "output_type": "stream",
     "text": [
      "True\n"
     ]
    }
   ],
   "source": [
    "# Напишите программу, которая проверяет, являются ли два введённых слова анаграммами.\n",
    "# Программа должна вывести True в случае, если введённые слова являются анаграммами, и False в остальных случаях.\n",
    "a = input().lower()\n",
    "b = input().lower()\n",
    "c = list()\n",
    "d = list()\n",
    "\n",
    "for i in a:\n",
    "    c.append(i)\n",
    "c.sort()\n",
    "\n",
    "for i in b:\n",
    "    d.append(i)\n",
    "d.sort()\n",
    "\n",
    "if c == d:\n",
    "    print(True)\n",
    "else:\n",
    "    print(False)"
   ]
  },
  {
   "cell_type": "code",
   "execution_count": 33,
   "metadata": {},
   "outputs": [
    {
     "name": "stdout",
     "output_type": "stream",
     "text": [
      "Error\n"
     ]
    }
   ],
   "source": [
    "# Напишите программу, которая определяет, бьёт ли одна карта другую.\n",
    "# Если встречаются две карты одной масти, то побеждает та, у которой выше значение;\n",
    "# Если карты разных мастей, то карта, имеющая козырную масть, побеждает;\n",
    "# Если карты разных мастей и нет козырных, то никто не побеждает.\n",
    "\n",
    "# Ввод данных\n",
    "value_cards = ['6', '7', '8', '9', '10', 'J', 'Q', 'K', 'A']\n",
    "a, b = input().split()\n",
    "suit_card = input()\n",
    "\n",
    "# Данные разбиваем на первое и второе и вносим в списки чтобы в дальнейшем работать удобно было\n",
    "card_first = []\n",
    "card_first.append(a[:-1])\n",
    "card_first.append(a[-1])\n",
    "card_second = []\n",
    "card_second.append(b[:-1])\n",
    "card_second.append(b[-1])\n",
    "\n",
    "# Узнаем позиции в первом списке чтобы, в дальнейшем узнать какая карта больше другой\n",
    "count = -1\n",
    "count_first = 0\n",
    "count_second = 0\n",
    "for i in value_cards:\n",
    "    count += 1\n",
    "    if card_first[0] in i:\n",
    "        count_first += count\n",
    "    if card_second[0] in i:\n",
    "        count_second += count\n",
    "\n",
    "# условия при которых сравниваются карты\n",
    "if (card_first[-1] in suit_card) and (card_second[-1] in suit_card):\n",
    "    if count_first > count_second: \n",
    "        print('First')\n",
    "    elif count_first < count_second:\n",
    "        print('Second')\n",
    "    elif count_first == count_second:\n",
    "        print(\"Error\")\n",
    "\n",
    "elif (card_first[-1] in suit_card) or (card_second[-1] in suit_card):\n",
    "    if card_first[-1] in suit_card:\n",
    "        print(\"First\")\n",
    "    elif card_second[-1] in suit_card:\n",
    "        print('Second')\n",
    "\n",
    "elif (card_first[-1] not in suit_card) and (card_second[-1] not in suit_card):\n",
    "    if card_first[-1] == card_second[-1]:\n",
    "        if count_first > count_second: \n",
    "            print('First')\n",
    "        elif count_first < count_second:\n",
    "            print('Second')\n",
    "        elif count_first == count_second:\n",
    "            print(\"Error\")\n",
    "    elif card_first[-1] != card_second[-1]:\n",
    "        print(\"Error\")\n"
   ]
  },
  {
   "cell_type": "code",
   "execution_count": 57,
   "metadata": {},
   "outputs": [
    {
     "name": "stdout",
     "output_type": "stream",
     "text": [
      "['l', 'c', 'd', 'p', 'c', 'f', 'd', 'h', 'v', 'd', 'u']\n",
      "Result: \"lcdpcfdhvdu\"\n"
     ]
    }
   ],
   "source": [
    "# Шифр Цезаря\n",
    "ALPHABET = ' abcdefghijklmnopqrstuvwxyz'\n",
    "shift_input = int(3)\n",
    "strings = \"i am caesar\"\n",
    "string_on_exit = []\n",
    "d = \"\"\n",
    "z = len(ALPHABET)\n",
    "def func(cezarPass, z, *kwrg):\n",
    "        if cezarPass == z:\n",
    "            string_on_exit.append(ALPHABET[cezarPass-z])\n",
    "        elif cezarPass > z:\n",
    "            string_on_exit.append(ALPHABET[cezarPass-z])\n",
    "        elif cezarPass < z:\n",
    "            string_on_exit.append(ALPHABET[cezarPass])\n",
    "\n",
    "for i, string in enumerate(strings):\n",
    "    a = ALPHABET.find(string)\n",
    "    cezarPass = a+shift_input\n",
    "    \n",
    "    if 0 <= shift_input < z:\n",
    "         func(cezarPass, z, *string_on_exit)\n",
    "\n",
    "print(string_on_exit)\n",
    "for i in string_on_exit:\n",
    "    d += str(i)\n",
    "\n",
    "print(f\"\"\"Result: \\\"{d}\\\"\"\"\")\n"
   ]
  },
  {
   "cell_type": "code",
   "execution_count": null,
   "metadata": {},
   "outputs": [],
   "source": [
    "# 4.3 Caesar cipher - Шифр Цезаря\n",
    "import copy\n",
    "# ввод данных, создание переменных,констант\n",
    "ALPHABET = ' abcdefghijklmnopqrstuvwxyz' \n",
    "shift_input = int(input()) # int(27)\n",
    "strings = input().lstrip(' ').rstrip(' ') # \"abc\"\n",
    "string_on_exit = []\n",
    "d = \"\"\n",
    "ALPHABET_LEN = len(ALPHABET)\n",
    "\n",
    "# Заменил повторяющийся код функцией, вспомнил как список передать в функцию с помощью *\n",
    "def func(cezarPass, ALPHABET_LEN, *kwrg):\n",
    "        if cezarPass == ALPHABET_LEN:\n",
    "            string_on_exit.append(ALPHABET[cezarPass-ALPHABET_LEN])\n",
    "        elif cezarPass > ALPHABET_LEN:\n",
    "            string_on_exit.append(ALPHABET[cezarPass-ALPHABET_LEN])\n",
    "        elif cezarPass < ALPHABET_LEN:\n",
    "            string_on_exit.append(ALPHABET[cezarPass])\n",
    "\n",
    "# Запускаем цикл через который каждый символ в алфавите\n",
    "for i, string in enumerate(strings):\n",
    "    a = ALPHABET.find(string)\n",
    "    cezarPass = a+shift_input\n",
    "\n",
    "# В первом блоке просматриваем вариант когда символ сдвигается в пределах алвафита    \n",
    "    if 0 <= shift_input <= ALPHABET_LEN:\n",
    "        func(cezarPass, ALPHABET_LEN, *string_on_exit)\n",
    "\n",
    "# во втором блоке просматриваем вариант когда уходим в минус\n",
    "    elif (0 > shift_input):\n",
    "        while 0 > cezarPass:\n",
    "            cezarPass += ALPHABET_LEN\n",
    "        func(cezarPass, ALPHABET_LEN, *string_on_exit)\n",
    "\n",
    "# в третьем блоке просматриваем вариант когда уходим в огромный плюс    \n",
    "    elif (shift_input > ALPHABET_LEN):\n",
    "        while cezarPass > ALPHABET_LEN:\n",
    "            cezarPass -= ALPHABET_LEN\n",
    "        func(cezarPass, ALPHABET_LEN, *string_on_exit)\n",
    "\n",
    "# В конце через цикл for и формат выводим на печать получившееся решение\n",
    "for i in string_on_exit:\n",
    "    d += str(i)\n",
    "\n",
    "print(f\"\"\"Result: \\\"{d}\\\"\"\"\")"
   ]
  },
  {
   "cell_type": "code",
   "execution_count": 49,
   "metadata": {},
   "outputs": [
    {
     "name": "stdout",
     "output_type": "stream",
     "text": [
      "None\n",
      "[1, 2, 3]\n",
      "[1]\n",
      "[5, 4]\n"
     ]
    }
   ],
   "source": [
    "def modify_list(l):\n",
    "    # создаем пустой список\n",
    "    lst = []\n",
    "    \n",
    "    # в первом цикле все переменные удовлитворяющие условию\n",
    "    # переносим в новый список\n",
    "    for index, ls in enumerate(l):\n",
    "        if ls % 2 == 0:\n",
    "            lst.append(ls)\n",
    "    \n",
    "    # во втором цикле в новом списке делим все переменные на два\n",
    "    # далее обнуляем существующий список и передаем в него новый список\n",
    "    for index, ls in enumerate(lst):   \n",
    "        lst[index] = ls // 2\n",
    "    l.clear()\n",
    "    l += lst[:]\n",
    "\n",
    "l = [1, 2, 3, 4, 5, 6]\n",
    "print(modify_list(l))  # None\n",
    "print(l)               # [1, 2, 3]\n",
    "modify_list(l)\n",
    "print(l)               # [1]\n",
    "\n",
    "l = [10, 5, 8, 3]\n",
    "modify_list(l)\n",
    "print(l)               # [5, 4]"
   ]
  },
  {
   "cell_type": "code",
   "execution_count": 70,
   "metadata": {},
   "outputs": [
    {
     "name": "stdout",
     "output_type": "stream",
     "text": [
      "1 2 2 3 3 3 4 "
     ]
    }
   ],
   "source": [
    "# 3.6 Number sequence\n",
    "n = 7 # int(input())\n",
    "a = list()\n",
    "\n",
    "# в первом цикле делаю количество всех повторений\n",
    "# [1, 2, 2, 3, 3, 3, 4, 4, 4, 4, 5, 5, 5, 5, 5, 6, 6, 6, 6, 6, 6, 7, 7, 7, 7, 7, 7, 7]\n",
    "for index in range(1, n+1):\n",
    "    for i in range(index):\n",
    "        a.append(index)\n",
    "\n",
    "# во втором цикле столько повторений сколько во входных данных\n",
    "# 1 2 2 3 3 3 4 4        \n",
    "for i in range(n):\n",
    "    print(a[i], end=\" \")\n",
    "\n",
    "\n"
   ]
  },
  {
   "cell_type": "code",
   "execution_count": 57,
   "metadata": {},
   "outputs": [
    {
     "name": "stdout",
     "output_type": "stream",
     "text": [
      "1276.28\n"
     ]
    }
   ],
   "source": [
    "# 5.1 Оператор цикла while\n",
    "\n",
    "n = 5\n",
    "man_deposit = 1000\n",
    "PROCENT = 0.05\n",
    "count = 0\n",
    "\n",
    "while count < n:\n",
    "    count += 1\n",
    "    man_deposit += man_deposit*PROCENT\n",
    "\n",
    "#print(f\"{man_deposit:.2f}\")\n",
    "print(round(man_deposit, 2))"
   ]
  },
  {
   "cell_type": "code",
   "execution_count": 86,
   "metadata": {},
   "outputs": [
    {
     "name": "stdout",
     "output_type": "stream",
     "text": [
      "9.82e+05\n"
     ]
    }
   ],
   "source": [
    "#5.10 Length translator\n",
    "# создаем словарь, в который перемещаем все статистические данные\n",
    "#  причем там где сантиметры /100 чтобы приравнять к метрам\n",
    "metric = {'mile': 1609, 'yard': 0.9144, 'km': 1000, 'cm': 0.01, 'mm': 0.001, 'm': 1, 'inch': 2.54/100, 'foot': 30.48/100}\n",
    "\n",
    "# блок ввода данных, где разбивает ввод на отдельные переменные\n",
    "data_input = \"15.5 mile in inch\"\n",
    "a, b, c, d = data_input.split()\n",
    "\n",
    "# операторы в первом случае где нет дюймов, второй случай где есть, там мы делим на сотку чтобы \n",
    "# приравнять к сантиметрам. Вывод осуществляем F-строкой, очень удобно.\n",
    "if d != ('inch', 'foot'):\n",
    "    g = (float(a)*metric[b])/metric[d]\n",
    "    print(f\"{g:.2e}\")  \n",
    "elif d == ('inch', 'foot'):\n",
    "    g = (float(a)*metric[b])/metric[d]/100\n",
    "    print(f\"{g:.2e}\")         \n",
    "    \n",
    "    \n",
    "    \n",
    "\n"
   ]
  },
  {
   "cell_type": "code",
   "execution_count": 2,
   "metadata": {},
   "outputs": [
    {
     "name": "stdout",
     "output_type": "stream",
     "text": [
      "MCMLXXXVI"
     ]
    }
   ],
   "source": [
    "# 5.5 Decimal number to Roman\n",
    "\n",
    "# Ввод, через while проводим валидацию вводных данных\n",
    "n = 1986 # int(input())\n",
    "while True:\n",
    "    if 0 < n < 4000:\n",
    "        break\n",
    "    else:\n",
    "        n = int(input())\n",
    "        continue\n",
    "\n",
    "# Не придумал ничего проще чем все даты перечислить для простого построения дальнейшей программы\n",
    "data_dict = {0: '', 1: 'I', 2: 'II', 3: 'III', 4: 'IV', 5: 'V',\n",
    "    6: 'VI', 7: 'VII', 8: 'VIII', 9: 'IX', 10: 'X', 20: 'XX',\n",
    "    30: 'XXX', 40: 'XL', 50: 'L', 60: 'LX', 70: 'LXX', 80: 'LXXX', 90: 'XC', 100: 'C',\n",
    "    200: 'CC', 300: 'CCC', 400: 'CD', 500: 'D', 600: 'DC', 700: 'DCC', 800: 'DCCC',\n",
    "    900: 'CM', 1000: 'M', 2000: 'MM', 3000: 'MMM'}\n",
    "\n",
    "# Cделал список куда буду отфильтрованные даны падать по порядку\n",
    "data_output = []\n",
    "\n",
    "# Пришлось в зависимости от кол-ва символов в строке сделать списки для правильного вывода\n",
    "c = ['000', '00', '0', '']\n",
    "d = ['00', '0', '']\n",
    "e = ['0', '']\n",
    "\n",
    "# вводные данные пеервел в строчные значения для того чтобы нормально использовать цикл for\n",
    "years = str(n)\n",
    "\n",
    "# Через цмкл прогоняем вводные данные. И через иф загоняем в созданны спиок данные\n",
    "for i, year in enumerate(years):\n",
    "    if len(years) == 4:\n",
    "        a = year + c[i]\n",
    "        data_output.append(data_dict[int(a)])  \n",
    "    elif len(years) == 3:\n",
    "        a = year + d[i]\n",
    "        data_output.append(data_dict[int(a)])\n",
    "    elif len(years) == 2:\n",
    "        a = year + e[i]\n",
    "        data_output.append(data_dict[int(a)])\n",
    "    elif len(years) == 1:\n",
    "        a = year\n",
    "        data_output.append(data_dict[int(a)]) \n",
    "          \n",
    "# Вывод на экран результата\n",
    "for i in data_output:\n",
    "    print(i, end = '')"
   ]
  },
  {
   "cell_type": "code",
   "execution_count": null,
   "metadata": {},
   "outputs": [],
   "source": []
  }
 ],
 "metadata": {
  "kernelspec": {
   "display_name": "Python 3",
   "language": "python",
   "name": "python3"
  },
  "language_info": {
   "codemirror_mode": {
    "name": "ipython",
    "version": 3
   },
   "file_extension": ".py",
   "mimetype": "text/x-python",
   "name": "python",
   "nbconvert_exporter": "python",
   "pygments_lexer": "ipython3",
   "version": "3.11.0"
  },
  "orig_nbformat": 4,
  "vscode": {
   "interpreter": {
    "hash": "2bbb40334ccf45fea57e60b84ea6eb75e8dc4864cc3ea5b13d0206e48c0fcd90"
   }
  }
 },
 "nbformat": 4,
 "nbformat_minor": 2
}
