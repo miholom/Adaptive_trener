{
 "cells": [
  {
   "cell_type": "code",
   "execution_count": null,
   "metadata": {},
   "outputs": [],
   "source": [
    "\"\"\"Известно, что любую обыкновенную дробь можно записать в виде конечной простой непрерывной дроби.\n",
    "\n",
    "Напишите программу, которая преобразует обыкновенную дробь в последовательность коэффициентов \n",
    "\"\"\"\n",
    "\n"
   ]
  },
  {
   "cell_type": "code",
   "execution_count": 31,
   "metadata": {},
   "outputs": [],
   "source": [
    "\"\"\"Test version\"\"\"\n",
    "\n",
    "input_data = \"3/19\".split('/')\n",
    "\n",
    "a = int(input_data[0])\n",
    "b = int(input_data[1])\n",
    "\n",
    "test_list = list\n",
    "\n",
    "def finite_simple_continued_fraction(a, b):\n",
    "    global test_list\n",
    "    c = a//b\n",
    "    try: \n",
    "        if c != 0:\n",
    "            print(c, end=\" \")\n",
    "            d = a - (c*b)\n",
    "            finite_simple_continued_fraction(b, d) \n",
    "    except ZeroDivisionError:\n",
    "        pass\n",
    "\n",
    "finite_simple_continued_fraction(a, b)\n",
    "\n",
    "\n",
    "    "
   ]
  }
 ],
 "metadata": {
  "kernelspec": {
   "display_name": "Python 3",
   "language": "python",
   "name": "python3"
  },
  "language_info": {
   "codemirror_mode": {
    "name": "ipython",
    "version": 3
   },
   "file_extension": ".py",
   "mimetype": "text/x-python",
   "name": "python",
   "nbconvert_exporter": "python",
   "pygments_lexer": "ipython3",
   "version": "3.10.6"
  },
  "orig_nbformat": 4
 },
 "nbformat": 4,
 "nbformat_minor": 2
}
