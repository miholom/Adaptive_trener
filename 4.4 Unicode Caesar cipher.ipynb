{
 "cells": [
  {
   "cell_type": "code",
   "execution_count": 13,
   "metadata": {},
   "outputs": [
    {
     "name": "stdout",
     "output_type": "stream",
     "text": [
      "Result: \"😛😜😝😞😟😠😡😢😣😤😥😦😧😨😩😪😫😬😭😮😯😰😱😲😳😴😵😶😷😸😹😺😻😼😽😾😿🙀🙁🙂🙃🙄🙅🙆🙇🙈🙉🙊🙋🙌🙍🙎🙏\"😀😁😂😃😄😅😆😇😈😉😊😋😌😍😎😏😐😑😒😓😔😕😖😗😘😙\"\n"
     ]
    }
   ],
   "source": [
    "# 4.4 Caesar cipher - Шифр Цезаря\n",
    "import copy\n",
    "# ввод данных, создание переменных,констант\n",
    "ALPHABET = \"\"\"😀😁😂😃😄😅😆😇😈😉😊😋😌😍😎😏😐😑😒😓😔😕😖😗😘😙😚😛😜😝😞😟😠😡😢😣😤😥😦😧😨😩😪😫😬😭😮😯😰😱😲😳😴😵😶😷😸😹😺😻😼😽😾😿🙀🙁🙂🙃🙄🙅🙆🙇🙈🙉🙊🙋🙌🙍🙎🙏\"\"\"\n",
    "shift_input = int(input()) # int(27)\n",
    "strings = input().lstrip(' ').rstrip(' ') # \"abc\"\n",
    "string_on_exit = []\n",
    "d = \"\"\n",
    "ALPHABET_LEN = len(ALPHABET)\n",
    "\n",
    "# Заменил повторяющийся код функцией, вспомнил как список передать в функцию с помощью *\n",
    "def func(cezarPass, ALPHABET_LEN, *kwrg):\n",
    "        if cezarPass == ALPHABET_LEN:\n",
    "            string_on_exit.append(ALPHABET[cezarPass-ALPHABET_LEN])\n",
    "        elif cezarPass > ALPHABET_LEN:\n",
    "            string_on_exit.append(ALPHABET[cezarPass-ALPHABET_LEN])\n",
    "        elif cezarPass < ALPHABET_LEN:\n",
    "            string_on_exit.append(ALPHABET[cezarPass])\n",
    "\n",
    "# Запускаем цикл через который каждый символ в алфавите\n",
    "for i, string in enumerate(strings):\n",
    "    a = ALPHABET.find(string)\n",
    "    cezarPass = a+shift_input\n",
    "\n",
    "# В первом блоке просматриваем вариант когда символ сдвигается в пределах алвафита    \n",
    "    if 0 <= shift_input <= ALPHABET_LEN:\n",
    "        func(cezarPass, ALPHABET_LEN, *string_on_exit)\n",
    "\n",
    "# во втором блоке просматриваем вариант когда уходим в минус\n",
    "    elif (0 > shift_input):\n",
    "        while 0 > cezarPass:\n",
    "            cezarPass += ALPHABET_LEN\n",
    "        func(cezarPass, ALPHABET_LEN, *string_on_exit)\n",
    "\n",
    "# в третьем блоке просматриваем вариант когда уходим в огромный плюс    \n",
    "    elif (shift_input > ALPHABET_LEN):\n",
    "        while cezarPass > ALPHABET_LEN:\n",
    "            cezarPass -= ALPHABET_LEN\n",
    "        func(cezarPass, ALPHABET_LEN, *string_on_exit)\n",
    "\n",
    "# В конце через цикл for и формат выводим на печать получившееся решение\n",
    "for i in string_on_exit:\n",
    "    d += str(i)\n",
    "\n",
    "print(f\"\"\"Result: \\\"{d}\\\"\"\"\")"
   ]
  }
 ],
 "metadata": {
  "kernelspec": {
   "display_name": "Python 3",
   "language": "python",
   "name": "python3"
  },
  "language_info": {
   "codemirror_mode": {
    "name": "ipython",
    "version": 3
   },
   "file_extension": ".py",
   "mimetype": "text/x-python",
   "name": "python",
   "nbconvert_exporter": "python",
   "pygments_lexer": "ipython3",
   "version": "3.10.6"
  },
  "orig_nbformat": 4
 },
 "nbformat": 4,
 "nbformat_minor": 2
}
