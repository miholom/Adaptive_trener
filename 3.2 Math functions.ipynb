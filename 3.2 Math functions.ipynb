{
 "cells": [
  {
   "cell_type": "code",
   "execution_count": 6,
   "metadata": {},
   "outputs": [
    {
     "name": "stdout",
     "output_type": "stream",
     "text": [
      "-0.5\n"
     ]
    }
   ],
   "source": [
    "\"\"\"Требуется реализовать только функцию, решение не должно осуществлять операций ввода-вывода.\"\"\"\n",
    "\n",
    "def f(x):\n",
    "    if x <= -2:\n",
    "        return 1 - ((x+2)**2)\n",
    "    \n",
    "    elif -2 < x <= 2:\n",
    "        return -(x/2)\n",
    "    \n",
    "    elif 2 < x:\n",
    "        return ((x-2)**2) + 1\n",
    "    \n"
   ]
  }
 ],
 "metadata": {
  "kernelspec": {
   "display_name": "Python 3",
   "language": "python",
   "name": "python3"
  },
  "language_info": {
   "codemirror_mode": {
    "name": "ipython",
    "version": 3
   },
   "file_extension": ".py",
   "mimetype": "text/x-python",
   "name": "python",
   "nbconvert_exporter": "python",
   "pygments_lexer": "ipython3",
   "version": "3.10.6"
  },
  "orig_nbformat": 4
 },
 "nbformat": 4,
 "nbformat_minor": 2
}
