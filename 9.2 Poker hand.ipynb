{
 "cells": [
  {
   "cell_type": "code",
   "execution_count": null,
   "metadata": {},
   "outputs": [],
   "source": [
    "\"\"\"\n",
    "Старшая карта\n",
    "Руки, которые не соответствуют какой-либо более высокой категории, ранжируются по значению их старшей карты.\n",
    "\n",
    "Пара\n",
    "Две из пяти карт в раздаче имеют одинаковое значение.\n",
    "\n",
    "Две пары\n",
    "Рука содержит две разные пары.\n",
    "\n",
    "Три в своем роде\n",
    "Три карты в раздаче имеют одинаковое значение.\n",
    "\n",
    "Прямой\n",
    "Рука содержит пять карт с последовательными значениями.\n",
    "\n",
    "Промывать\n",
    "В раздаче пять карт одной масти.\n",
    "\n",
    "\n",
    "Аншлаг\n",
    "Три карты одинакового достоинства, а оставшиеся две карты образуют пару.\n",
    "\n",
    "Четыре в своем роде\n",
    "Четыре карты одинакового достоинства.\n",
    "\n",
    "Стрит-Флеш\n",
    "Пять карт одной масти в числовом порядке.\n",
    "\n",
    "\n",
    "Флеш-рояль\n",
    "Состоит из туза, короля, дамы, валета и десятки одной масти.\n",
    "\"\"\""
   ]
  },
  {
   "cell_type": "code",
   "execution_count": 1,
   "metadata": {},
   "outputs": [
    {
     "name": "stdout",
     "output_type": "stream",
     "text": [
      "['10C', 'JC', 'QC', 'KC', 'AC']\n",
      "[['10', 'C'], ['J', 'C'], ['Q', 'C'], ['K', 'C'], ['A', 'C']]\n"
     ]
    }
   ],
   "source": [
    "input_cards = \"10C JC QC KC AC\".split()\n",
    "\n",
    "mean = {\n",
    "         '2':2,'3':3,'4':4,'5':5,'6':6,'7':7,'8':8,'9':9,\n",
    "         '1':10,'J':11,'Q':12,'K':13,'A':14,\n",
    "         }\n",
    "print(input_cards)\n",
    "input_cards_dict = [[i[:-1], i[-1:]] for i in input_cards]\n",
    "print(input_cards_dict)\n",
    "\n",
    "одинаковая_масть\n",
    "\n",
    "\n"
   ]
  }
 ],
 "metadata": {
  "kernelspec": {
   "display_name": "Python 3",
   "language": "python",
   "name": "python3"
  },
  "language_info": {
   "codemirror_mode": {
    "name": "ipython",
    "version": 3
   },
   "file_extension": ".py",
   "mimetype": "text/x-python",
   "name": "python",
   "nbconvert_exporter": "python",
   "pygments_lexer": "ipython3",
   "version": "3.10.6"
  },
  "orig_nbformat": 4
 },
 "nbformat": 4,
 "nbformat_minor": 2
}
