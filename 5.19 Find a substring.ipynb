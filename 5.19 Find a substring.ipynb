{
 "cells": [
  {
   "cell_type": "code",
   "execution_count": 20,
   "metadata": {},
   "outputs": [
    {
     "name": "stdout",
     "output_type": "stream",
     "text": [
      "0 1 2 "
     ]
    }
   ],
   "source": [
    "\"\"\"\n",
    "Напишите программу, которая находит все позиции вхождения подстроки в строку.\n",
    "\n",
    "Формат ввода:\n",
    "На первой строке содержится исходная строка, на второй строке ввода указана подстрока, позиции которой требуется найти. Строки состоят из символов латинского алфавита.\n",
    "\n",
    "Формат вывода:\n",
    "Строка, содержащая индексы (индексация начинается с нуля) вхождения подстроки в строку, разделённые пробелом или число -1 в случае, когда подстрока не найдена.\n",
    "\"\"\"\n",
    "\n",
    "input_data = str(input())\n",
    "pattern = str(input())\n",
    "\n",
    "count_index_pattern = 0\n",
    "number_find_index = 0\n",
    "check = \"\"\n",
    "index = input_data.find(pattern, 3)\n",
    "\n",
    "while count_index_pattern < len(input_data):\n",
    "    \n",
    "    number_find_index = input_data.find(pattern, count_index_pattern)   # find first index\n",
    "    \n",
    "    if count_index_pattern == 0 and number_find_index == -1:            # if first index == -1 stop program\n",
    "        print(number_find_index)\n",
    "        break\n",
    "    \n",
    "    elif number_find_index != -1:                                       #  find more index\n",
    "        \n",
    "        if number_find_index == check:\n",
    "            count_index_pattern += 1\n",
    "        \n",
    "        elif number_find_index != check:                                       \n",
    "            print(number_find_index, end=' ')\n",
    "            count_index_pattern += 1\n",
    "            check = number_find_index\n",
    "    \n",
    "    elif count_index_pattern != 0 and number_find_index == -1:          # if last index == -1 that stop program\n",
    "        break\n"
   ]
  },
  {
   "cell_type": "code",
   "execution_count": 18,
   "metadata": {},
   "outputs": [
    {
     "name": "stdout",
     "output_type": "stream",
     "text": [
      "0 1 2 "
     ]
    }
   ],
   "source": [
    "\"\"\"\"Test version\"\"\"\n",
    "\n",
    "input_data = 'aaaa'\n",
    "pattern = \"aa\"\n",
    "\n",
    "count_index_pattern = 0\n",
    "a = 0\n",
    "index = input_data.find(pattern, 3)\n",
    "b = ''\n",
    "\n",
    "while count_index_pattern < len(input_data):\n",
    "    a = input_data.find(pattern, count_index_pattern)\n",
    "    if count_index_pattern == 0 and a == -1:\n",
    "        print(a)\n",
    "        break\n",
    "    elif a != -1:\n",
    "        if a == b:\n",
    "            count_index_pattern += 1\n",
    "        elif a != b:\n",
    "            print(a, end=' ')\n",
    "            count_index_pattern += 1\n",
    "            b = a\n",
    "    elif count_index_pattern != 0 and a == -1:\n",
    "        break"
   ]
  }
 ],
 "metadata": {
  "kernelspec": {
   "display_name": "Python 3",
   "language": "python",
   "name": "python3"
  },
  "language_info": {
   "codemirror_mode": {
    "name": "ipython",
    "version": 3
   },
   "file_extension": ".py",
   "mimetype": "text/x-python",
   "name": "python",
   "nbconvert_exporter": "python",
   "pygments_lexer": "ipython3",
   "version": "3.10.6"
  },
  "orig_nbformat": 4
 },
 "nbformat": 4,
 "nbformat_minor": 2
}
