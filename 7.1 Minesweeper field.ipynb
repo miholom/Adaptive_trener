{
 "cells": [
  {
   "cell_type": "code",
   "execution_count": null,
   "metadata": {},
   "outputs": [],
   "source": [
    "import numpy, scipy.ndimage\n",
    "\n",
    "def split(s):                           # split string on simbols in input()\n",
    "    return [char for char in s]\n",
    "\n",
    "while True:                             # validation input() values\n",
    "    n, m = input().split()\n",
    "    n = int(n)\n",
    "    m = int(m)\n",
    "    if (1 <= n <= 100) and (1 <= n <= 100):\n",
    "        break\n",
    "    else:\n",
    "        continue \n",
    "\n",
    "matrix= [split(input()) for i in range(n)] # generation game filed\n",
    "\n",
    "def nb_vals(matrix, indices): # эту часть спарсил, она ищет вокруг все дерьмо\n",
    "    matrix = numpy.array(matrix)\n",
    "    indices = tuple(numpy.transpose(numpy.atleast_2d(indices)))\n",
    "    arr_shape = numpy.shape(matrix)\n",
    "    dist = numpy.ones(arr_shape)\n",
    "    dist[indices] = 0\n",
    "    dist = scipy.ndimage.distance_transform_cdt(dist, metric='chessboard')\n",
    "    nb_indices = numpy.transpose(numpy.nonzero(dist == 1))\n",
    "    return [matrix[tuple(ind)] for ind in nb_indices]\n",
    "\n",
    "matrix_copy = []\n",
    "\n",
    "for i in range(n):\n",
    "    for j in range(m):\n",
    "        if matrix[i][j] == \"*\":\n",
    "            matrix_copy.append(matrix[i][j])\n",
    "        elif matrix[i][j] == \".\":\n",
    "            a = nb_vals(matrix, [i,j]) # вот тут она все находит вокруг элемента\n",
    "            b = a.count(\"*\") # а здесь мы подсчитываем количчество совпадений звездочки\n",
    "            matrix_copy.append(b)\n",
    "\n",
    "new_list = [matrix_copy[i:i+m] for i in range(0, len(matrix_copy), m)] # здсеь тоже спиздил, это из обычного списка делает вложенный\n",
    "\n",
    "for i in new_list:\n",
    "    for j in i:\n",
    "        print(j, end=\"\")\n",
    "    print()\n"
   ]
  },
  {
   "cell_type": "code",
   "execution_count": 5,
   "metadata": {},
   "outputs": [
    {
     "name": "stdout",
     "output_type": "stream",
     "text": [
      "[2, 2, 1, 2, '*', '*', '*', 1, 3, '*', 2, 2, 1, 3, '*', 0, 0, 0, 2, '*']\n",
      "2212*\n",
      "**13*\n",
      "2213*\n",
      "0002*\n"
     ]
    }
   ],
   "source": [
    "import numpy, scipy.ndimage\n",
    "n = 4\n",
    "m = 5\n",
    "\n",
    "matrix = [['.', '.', '.', '.', '*'],\n",
    "         ['*', '*', '.', '.', '*'],\n",
    "         ['.', '.', '.', '.', '*'],\n",
    "         ['.', '.', '.', '.', '*']\n",
    "         ]\n",
    "\n",
    "def nb_vals(matrix, indices):\n",
    "    matrix = numpy.array(matrix)\n",
    "    indices = tuple(numpy.transpose(numpy.atleast_2d(indices)))\n",
    "    arr_shape = numpy.shape(matrix)\n",
    "    dist = numpy.ones(arr_shape)\n",
    "    dist[indices] = 0\n",
    "    dist = scipy.ndimage.distance_transform_cdt(dist, metric='chessboard')\n",
    "    nb_indices = numpy.transpose(numpy.nonzero(dist == 1))\n",
    "    return [matrix[tuple(ind)] for ind in nb_indices]\n",
    "\n",
    "matrix_copy = []\n",
    "\n",
    "for i in range(n):\n",
    "    for j in range(m):\n",
    "        if matrix[i][j] == \"*\":\n",
    "            matrix_copy.append(matrix[i][j])\n",
    "        elif matrix[i][j] == \".\":\n",
    "            a = nb_vals(matrix, [i,j])\n",
    "            b = a.count(\"*\")\n",
    "            matrix_copy.append(b)\n",
    "\n",
    "print(matrix_copy)\n",
    "\n",
    "new_list = [matrix_copy[i:i+m] for i in range(0, len(matrix_copy), m)]\n",
    "\n",
    "for i in new_list:\n",
    "    for j in i:\n",
    "      print(j, end=\"\")\n",
    "    print()"
   ]
  }
 ],
 "metadata": {
  "kernelspec": {
   "display_name": "Python 3",
   "language": "python",
   "name": "python3"
  },
  "language_info": {
   "codemirror_mode": {
    "name": "ipython",
    "version": 3
   },
   "file_extension": ".py",
   "mimetype": "text/x-python",
   "name": "python",
   "nbconvert_exporter": "python",
   "pygments_lexer": "ipython3",
   "version": "3.10.6"
  },
  "orig_nbformat": 4
 },
 "nbformat": 4,
 "nbformat_minor": 2
}
