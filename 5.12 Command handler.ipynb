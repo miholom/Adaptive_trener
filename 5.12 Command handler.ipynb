{
 "cells": [
  {
   "cell_type": "code",
   "execution_count": 9,
   "metadata": {},
   "outputs": [
    {
     "name": "stdout",
     "output_type": "stream",
     "text": [
      "Processing \"Turn left\" command...\n",
      "Processing \"Turn left\" command...\n",
      "Processing \"Turn left\" command...\n",
      "Good bye!\n"
     ]
    }
   ],
   "source": [
    "\"\"\"\n",
    "Напишите программу, имитирующую обработчик команд от пользователя.\n",
    "\n",
    "Программа должна выводить оповещение о своём состоянии в следующем формате:\n",
    "Когда пользователь вводит команду, содержимое которой обозначим как <command>, программа должна вывести фразу\n",
    "\n",
    "Processing \"<command>\" command...\n",
    "Например, пользователь ввёл Come to me, в таком случае должна быть выведена строка\n",
    "\n",
    "Processing \"Come to me\" command...\n",
    "Считывание команд должно продолжаться до ввода команды End, при этом программа должна вывести сообщение\n",
    "\n",
    "Good bye!\n",
    "и завершиться (см. пример).\n",
    "\n",
    "Для считывания команд используйте функцию input без аргументов.\n",
    "\n",
    "Формат ввода:\n",
    "Последовательность команд, каждая на отдельной строке. Команда состоит из символов латинского алфавита, пробелов и символов табуляции. Гарантируется отсутствие пробельных символов в начале и конце строки. Последняя команда всегда End.\n",
    "\n",
    "Формат вывода:\n",
    "Сообщения об обработке команд, как указано в задании, по одному сообщению на строку.\n",
    "\"\"\"\n",
    "\n",
    "empty_list = list()                                 # Создаем пустой список\n",
    "\n",
    "while True:                                         # Делаем валидацию через цикл, если Еnd, то прекращаем ввод                \n",
    "    input_data = input()                            \n",
    "    empty_list.append(input_data)\n",
    "    if input_data.lower() != \"end\":\n",
    "        continue\n",
    "    elif input_data.lower() == \"end\":\n",
    "        break\n",
    "        \n",
    "\n",
    "for i in empty_list:                                # Обходим список и через форматирование строк выводим\n",
    "    if i != \"End\":                                  # данные на экран согласно поставленного задания  \n",
    "        print(f\"\"\"Processing \"{i}\" command...\"\"\")\n",
    "    else:\n",
    "        print(\"Good bye!\")    "
   ]
  },
  {
   "cell_type": "code",
   "execution_count": 1,
   "metadata": {},
   "outputs": [
    {
     "name": "stdout",
     "output_type": "stream",
     "text": [
      "Processing \"Turn left\" command...\n",
      "Processing \"Move forward\" command...\n",
      "Processing \"Turn left\" command...\n",
      "Processing \"Move forward\" command...\n",
      "Processing \"Turn left\" command...\n",
      "Processing \"Move forward\" command...\n",
      "Processing \"Turn left\" command...\n",
      "Processing \"Move forward\" command...\n",
      "Good bye!\n",
      "True\n"
     ]
    }
   ],
   "source": [
    "\"\"\"Test version\"\"\"\n",
    "empty_list = [\n",
    "    \"Turn left\",\n",
    "    \"Move forward\",\n",
    "    \"Turn left\",\n",
    "    \"Move forward\",\n",
    "    \"Turn left\",\n",
    "    \"Move forward\",\n",
    "    \"Turn left\",\n",
    "    \"Move forward\",\n",
    "    \"End\",\n",
    "    ]\n",
    "\n",
    "for i in empty_list:\n",
    "    if i != \"End\":\n",
    "        print(f\"\"\"Processing \"{i}\" command...\"\"\")\n",
    "    else:\n",
    "        print(\"Good bye!\")\n",
    "\n",
    "print(\"End\" in empty_list)\n"
   ]
  }
 ],
 "metadata": {
  "kernelspec": {
   "display_name": "Python 3",
   "language": "python",
   "name": "python3"
  },
  "language_info": {
   "codemirror_mode": {
    "name": "ipython",
    "version": 3
   },
   "file_extension": ".py",
   "mimetype": "text/x-python",
   "name": "python",
   "nbconvert_exporter": "python",
   "pygments_lexer": "ipython3",
   "version": "3.10.6"
  },
  "orig_nbformat": 4
 },
 "nbformat": 4,
 "nbformat_minor": 2
}
