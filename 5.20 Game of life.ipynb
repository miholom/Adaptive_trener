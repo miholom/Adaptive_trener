{
 "cells": [
  {
   "cell_type": "code",
   "execution_count": null,
   "metadata": {},
   "outputs": [],
   "source": [
    "\"\"\"Напишите программу, вычисляющую следующее состояние поля для Game of life. \n",
    "\n",
    "Поле представляет собой прямоугольник, причём для крайних клеток поля соседними являются клетки с противоположного конца (поле представляет собой тор).\n",
    "\n",
    "Формат ввода:\n",
    "\n",
    "На первой строке указаны два целых числа через пробел -- высота и ширина поля.\n",
    "В следующих строках подаётся состояние поля. Точка \".\" обозначает мёртвую клетку, символ \"X\" - живую. \n",
    "\n",
    "Формат вывода:\n",
    "Следующее состояние поля, используя те же обозначения, что использовались на вводе.\n",
    "-----------------------------------------------------------------------------------\n",
    "Есть «вселенная», представленная в виде квадрата, разбитого на квадратные же поля. Поле может быть пустым, либо на нём может жить клетка. Каждый «день» игры рассчитывается новое поколение клеток по следующим правилам:\n",
    "\n",
    "на пустом поле, рядом с которым ровно 3 живые клетки, зарождается новая клетка;\n",
    "если у живой клетки есть 2 или 3 живые соседки, эта клетка продолжает жить;\n",
    "если соседей меньше 2 или больше 3, клетка умирает (от «одиночества» или от «перенаселённости» соответственно).\n",
    "\n",
    "Вселенная «тороидальная»: если зайти за её правый край, окажешься на левом, с верхом и низом то же самое.\n",
    "Для помощи: создавайте дополнительные столбцы и строки (нижний столбец добавить в 0 строку, а нулевой - к последнему, и со столбцами тоже самое)\n",
    "\"\"\""
   ]
  },
  {
   "cell_type": "code",
   "execution_count": 5,
   "metadata": {},
   "outputs": [
    {
     "name": "stdout",
     "output_type": "stream",
     "text": [
      "[0, 1, 1, 1, 0, 0, 1, 'X', 2, 1, 1, 3, 5, 'X', 2, 1, 'X', 'X', 'X', 3, 1, 2, 3, 3, 'X']\n",
      "01110\n",
      "01X21\n",
      "135X2\n",
      "1XXX3\n",
      "1233X\n"
     ]
    }
   ],
   "source": [
    "\"\"\"Test version\"\"\"\n",
    "\n",
    "import numpy, scipy.ndimage\n",
    "n = 5\n",
    "matrix = 5\n",
    "\n",
    "matrix = [['.', '.', '.', '.', '.'],\n",
    "          ['.', '.', 'X', '.', '.'],\n",
    "          ['.', '.', '.', 'X', '.'],\n",
    "          ['.', 'X', 'X', 'X', '.'],\n",
    "          ['.', '.', '.', '.', 'X'],\n",
    "         ]\n",
    "\n",
    "def nb_vals(matrix, indices):\n",
    "    matrix = numpy.array(matrix)\n",
    "    indices = tuple(numpy.transpose(numpy.atleast_2d(indices)))\n",
    "    arr_shape = numpy.shape(matrix)\n",
    "    dist = numpy.ones(arr_shape)\n",
    "    dist[indices] = 0\n",
    "    dist = scipy.ndimage.distance_transform_cdt(dist, metric='chessboard')\n",
    "    nb_indices = numpy.transpose(numpy.nonzero(dist == 1))\n",
    "    return [matrix[tuple(ind)] for ind in nb_indices]\n",
    "\n",
    "matrix_copy = []\n",
    "\n",
    "for i in range(n):\n",
    "    for j in range(matrix):\n",
    "        if matrix[i][j] == \"X\":\n",
    "            matrix_copy.append(matrix[i][j])\n",
    "        elif matrix[i][j] == \".\":\n",
    "            a = nb_vals(matrix, [i,j])\n",
    "            b = a.count(\"X\")\n",
    "            matrix_copy.append(b)\n",
    "\n",
    "print(matrix_copy)\n",
    "\n",
    "new_list = [matrix_copy[i:i+matrix] for i in range(0, len(matrix_copy), matrix)]\n",
    "\n",
    "for i in new_list:\n",
    "    for j in i:\n",
    "      print(j, end=\"\")\n",
    "    print()"
   ]
  },
  {
   "cell_type": "code",
   "execution_count": 29,
   "metadata": {},
   "outputs": [
    {
     "name": "stdout",
     "output_type": "stream",
     "text": [
      "5\n"
     ]
    }
   ],
   "source": [
    "n = 5\n",
    "m = 5\n",
    "\n",
    "matrix = [['.', '.', '.', '.', '.'],\n",
    "          ['.', '.', 'X', '.', '.'],\n",
    "          ['.', '.', '.', 'X', '.'],\n",
    "          ['.', 'X', 'X', 'X', '.'],\n",
    "          ['.', '.', '.', '.', 'X'],\n",
    "         ]\n",
    "i = 3\n",
    "j = 3\n",
    "\n",
    "znak_tochka = \".\"\n",
    "znak_X = \"X\"\n",
    "\n",
    "def around_numbers(matrix, znak_tochka, i, j):\n",
    "    count = 0\n",
    "    if matrix[(i-1)%n][(j-1)%m] == znak_tochka:\n",
    "        count += 1    \n",
    "    if matrix[(i-1)%n][(j)%m] == znak_tochka:\n",
    "        count += 1\n",
    "    if matrix[(i-1)%n][(j+1)%m] == znak_tochka:\n",
    "        count += 1\n",
    "    if matrix[(i)%n][(j-1)%m] == znak_tochka:\n",
    "        count += 1\n",
    "    if matrix[(i)%n][(j+1)%m] == znak_tochka:\n",
    "        count += 1\n",
    "    if matrix[(i+1)%n][(j-1)%m] == znak_tochka:\n",
    "        count += 1\n",
    "    if matrix[(i+1)%n][j%m] == znak_tochka:\n",
    "        count += 1        \n",
    "    if matrix[(i+1)%n][(j+1)%m] == znak_tochka:\n",
    "        count += 1\n",
    "\n",
    "    return count\n",
    "    \n",
    "a = around_numbers(matrix, znak_tochka, i, j)\n",
    "print(a)"
   ]
  },
  {
   "cell_type": "code",
   "execution_count": 20,
   "metadata": {},
   "outputs": [
    {
     "name": "stdout",
     "output_type": "stream",
     "text": [
      ". . .\n"
     ]
    }
   ],
   "source": [
    "matrix = [['.', '.', '.', '.', '.'],\n",
    "          ['.', '.', 'X', '.', '.'],\n",
    "          ['.', '.', '.', 'X', '.'],\n",
    "          ['.', 'X', 'X', 'X', '.'],\n",
    "          ['.', '.', '.', '.', 'X'],\n",
    "         ]\n",
    "\n",
    "def neighbors(matrix, y, x):\n",
    "    d = []\n",
    "    if x + 1 < len(matrix[0]):\n",
    "        d.append(matrix[y][x + 1])\n",
    "    if x - 1 >= 0:\n",
    "        d.append(matrix[y][x - 1])\n",
    "    if y + 1 < len(matrix):\n",
    "        d.append(matrix[y + 1][x])\n",
    "    if y - 1 >= 0:\n",
    "        d.append(matrix[y - 1][x])\n",
    "    return d\n",
    " \n",
    " \n",
    "\n",
    "print(*sorted(neighbors(matrix, 1, 0)))\n"
   ]
  },
  {
   "cell_type": "code",
   "execution_count": 23,
   "metadata": {},
   "outputs": [
    {
     "data": {
      "text/plain": [
       "3"
      ]
     },
     "execution_count": 23,
     "metadata": {},
     "output_type": "execute_result"
    }
   ],
   "source": [
    "3%5"
   ]
  }
 ],
 "metadata": {
  "kernelspec": {
   "display_name": "Python 3",
   "language": "python",
   "name": "python3"
  },
  "language_info": {
   "codemirror_mode": {
    "name": "ipython",
    "version": 3
   },
   "file_extension": ".py",
   "mimetype": "text/x-python",
   "name": "python",
   "nbconvert_exporter": "python",
   "pygments_lexer": "ipython3",
   "version": "3.10.6"
  },
  "orig_nbformat": 4
 },
 "nbformat": 4,
 "nbformat_minor": 2
}
