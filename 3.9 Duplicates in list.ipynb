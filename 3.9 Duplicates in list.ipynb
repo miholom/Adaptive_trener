{
 "cells": [
  {
   "cell_type": "code",
   "execution_count": null,
   "metadata": {},
   "outputs": [],
   "source": [
    "\"\"\"\n",
    "Напишите программу, которая принимает на вход список целых чисел и выводит на экран значения, которые повторяются в нём более одного раза.\n",
    "\n",
    "Для решения задачи может пригодиться метод sort списка.\n",
    "\n",
    "Формат ввода:\n",
    "Одна строка с целыми числами, разделёнными пробелом.\n",
    "\n",
    "Формат вывода:\n",
    "Строка, содержащая числа, разделённые пробелом. Числа не должны повторяться, порядок вывода может быть произвольным.\n",
    "\"\"\"\n",
    "input_data = input().split()\n",
    "input_data.sort()\n",
    "\n",
    "a = set(input_data)                 # created set for unique values\n",
    " \n",
    "test_list = list()                  # this list created for output values\n",
    "\n",
    "for i in a:                         # searching coincidences\n",
    "    count = input_data.count(i)\n",
    "    if count > 1:\n",
    "        test_list.append(i)\n",
    "\n",
    "test_list.sort()                    # sorting list and after print through star \n",
    "print(*test_list)"
   ]
  },
  {
   "cell_type": "code",
   "execution_count": 14,
   "metadata": {},
   "outputs": [
    {
     "name": "stdout",
     "output_type": "stream",
     "text": [
      "0 3 4\n"
     ]
    }
   ],
   "source": [
    "\"\"\"Test version 0\"\"\"\n",
    "input_data = \"4 8 0 3 4 2 0 3\".split()\n",
    "input_data.sort()\n",
    "\n",
    "a = set(input_data)\n",
    "\n",
    "test_list = list()\n",
    "\n",
    "for i in a:\n",
    "    count = input_data.count(i)\n",
    "    if count > 1:\n",
    "        test_list.append(i)\n",
    "\n",
    "test_list.sort()\n",
    "print(*test_list)\n",
    "\n"
   ]
  }
 ],
 "metadata": {
  "kernelspec": {
   "display_name": "Python 3",
   "language": "python",
   "name": "python3"
  },
  "language_info": {
   "codemirror_mode": {
    "name": "ipython",
    "version": 3
   },
   "file_extension": ".py",
   "mimetype": "text/x-python",
   "name": "python",
   "nbconvert_exporter": "python",
   "pygments_lexer": "ipython3",
   "version": "3.10.6"
  },
  "orig_nbformat": 4
 },
 "nbformat": 4,
 "nbformat_minor": 2
}
