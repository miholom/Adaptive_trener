{
 "cells": [
  {
   "cell_type": "code",
   "execution_count": 32,
   "metadata": {},
   "outputs": [
    {
     "name": "stdout",
     "output_type": "stream",
     "text": [
      "()\n"
     ]
    }
   ],
   "source": [
    "\"\"\"\n",
    "Given an array of integers nums and an integer target, return indices of the two numbers such that they add up to target.\n",
    "\n",
    "You may assume that each input would have exactly one solution, and you may not use the same element twice.\n",
    "\n",
    "You can return the answer in any order.\n",
    "\"\"\"\n",
    "nums = [3, 3, 4, 3] \n",
    "target = 6\n",
    "test = tuple()\n",
    "test_1 = list()\n",
    "\n",
    "#if (len(nums) == 2) and (nums[0]+nums[1] == target):\n",
    "    #test_1.append(0)\n",
    "    #test_1.append(1)\n",
    "    #print(test_1)\n",
    "    \n",
    "\n",
    "for index, a in enumerate(nums):\n",
    "    for index_1, b in enumerate(nums):\n",
    "        if (a is b) and (index == index_1):\n",
    "            continue\n",
    "        elif a is not b or :\n",
    "            if (a+b) == target:\n",
    "                test = (index, index_1)\n",
    "\n",
    "print(test)                \n",
    "#for i in test:\n",
    "    #test_1.append(i)\n",
    "\n",
    "#test_1.sort()\n",
    "#print(test_1)\n"
   ]
  },
  {
   "cell_type": "code",
   "execution_count": null,
   "metadata": {},
   "outputs": [],
   "source": [
    "class Solution:\n",
    "    def twoSum(self, nums: List[int], target: int) -> List[int]:\n",
    "        test = tuple()\n",
    "        test_1 = list()\n",
    "\n",
    "        if (len(nums) == 2) and (nums[0]+nums[1] == target):\n",
    "            test_1.append(0)\n",
    "            test_1.append(1)\n",
    "            return test_1\n",
    "            \n",
    "        \n",
    "        for index, a in enumerate(nums):\n",
    "            for index_1, b in enumerate(nums):\n",
    "                if (a is b) and (index == index_1):\n",
    "                    continue\n",
    "                elif a is not b:\n",
    "                    if (a+b) == target:\n",
    "                        test = (index, index_1)\n",
    "                \n",
    "        for i in test:\n",
    "            test_1.append(i)\n",
    "\n",
    "        test_1.sort()\n",
    "        return test_1"
   ]
  }
 ],
 "metadata": {
  "kernelspec": {
   "display_name": "Python 3",
   "language": "python",
   "name": "python3"
  },
  "language_info": {
   "codemirror_mode": {
    "name": "ipython",
    "version": 3
   },
   "file_extension": ".py",
   "mimetype": "text/x-python",
   "name": "python",
   "nbconvert_exporter": "python",
   "pygments_lexer": "ipython3",
   "version": "3.10.6"
  },
  "orig_nbformat": 4
 },
 "nbformat": 4,
 "nbformat_minor": 2
}
