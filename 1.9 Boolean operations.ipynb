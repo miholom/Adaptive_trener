{
 "cells": [
  {
   "cell_type": "code",
   "execution_count": 1,
   "metadata": {},
   "outputs": [
    {
     "name": "stdout",
     "output_type": "stream",
     "text": [
      "true\n",
      "false\n",
      "false\n",
      "true\n",
      "t or f\n",
      "false\n",
      "true\n",
      "f or t\n"
     ]
    }
   ],
   "source": [
    "def t():\n",
    "    print('true')\n",
    "    return True\n",
    "\n",
    "def f():\n",
    "    print('false')\n",
    "    return False\n",
    "\n",
    "if t() and f():\n",
    "    print('t and f')\n",
    "\n",
    "if f() and t():\n",
    "    print('f and t')\n",
    "\n",
    "if t() or f():\n",
    "    print('t or f')\n",
    "\n",
    "if f() or t():\n",
    "    print('f or t')"
   ]
  }
 ],
 "metadata": {
  "kernelspec": {
   "display_name": "Python 3",
   "language": "python",
   "name": "python3"
  },
  "language_info": {
   "codemirror_mode": {
    "name": "ipython",
    "version": 3
   },
   "file_extension": ".py",
   "mimetype": "text/x-python",
   "name": "python",
   "nbconvert_exporter": "python",
   "pygments_lexer": "ipython3",
   "version": "3.10.6"
  },
  "orig_nbformat": 4
 },
 "nbformat": 4,
 "nbformat_minor": 2
}
