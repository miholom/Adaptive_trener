{
 "cells": [
  {
   "cell_type": "code",
   "execution_count": 23,
   "metadata": {},
   "outputs": [
    {
     "name": "stdout",
     "output_type": "stream",
     "text": [
      "1 - 3\n",
      "1 - 2\n",
      "3 - 2\n",
      "1 - 3\n",
      "2 - 1\n",
      "2 - 3\n",
      "1 - 3\n"
     ]
    }
   ],
   "source": [
    "\"\"\"\n",
    "Ханойская башня -- одна из широко известных головоломок, условие которой состоит в следующем:\n",
    "\n",
    "Имеется три стержня (пронумеруем их числами 1, 2 и 3). На первом стержне находится \n",
    "n колец с радиусами от 1 до n. Кольца отсортированы по радиусу, и наибольшее кольцо лежит ниже всех.\n",
    "\n",
    "Вам требуется найти и записать алгоритм переноса всех n колец с первого стержня на третий по следующим правилам:\n",
    "за один ход можно переносить только одно кольцо; нельзя класть большее кольцо на меньшее.\n",
    "\n",
    "Программа должна вывести на экран кратчайшую последовательность действий, необходимую для того, чтобы перенести все кольца с первого стержня на третий.\n",
    "\n",
    "Формат ввода:\n",
    "Строка, содержащая положительное целое число n.\n",
    "\n",
    "Формат вывода:\n",
    "Порядок действий для решения головоломки. Каждое действие записывается на отдельной строке. Действие записывается в формате \"номер стержня, с которого снимаем кольцо\" - \"номер стержня, на который надеваем кольцо\" (см. пример работы программы).\n",
    "\"\"\"\n",
    "num_discs = int(input())\n",
    "from_core = 1                                                 # core - стержень, temp - значит промежуточный.\n",
    "to_core = 3\n",
    "temp_core = 2 \n",
    "\n",
    "def move_disc(num, from_core, to_core, temp_core):            # рекурсия, меня она дрочит\n",
    "    if num > 0:\n",
    "         move_disc(num-1, from_core, temp_core, to_core,)\n",
    "         print(f\"{from_core} - {to_core}\")\n",
    "         move_disc(num-1, temp_core, to_core, from_core,)\n",
    "\n",
    "\n",
    "\n",
    "if num_discs == 1:                                            # при условии что n равен 1                                                              \n",
    "    print(f\"{from_core} - {to_core}\")\n",
    "\n",
    "elif num_discs > 1:                                           # при всех других условиях\n",
    "    move_disc(num_discs, from_core, to_core, temp_core)\n",
    "        \n"
   ]
  },
  {
   "cell_type": "code",
   "execution_count": 24,
   "metadata": {},
   "outputs": [
    {
     "name": "stdout",
     "output_type": "stream",
     "text": [
      "1 - 2\n",
      "1 - 3\n",
      "2 - 3\n"
     ]
    }
   ],
   "source": [
    "\"\"\"Test version\"\"\"\n",
    "\n",
    "def move_disc(num, from_core, to_core, temp_core):\n",
    "    if num > 0:\n",
    "         move_disc(num-1, from_core, temp_core, to_core,)\n",
    "         print(f\"{from_core} - {to_core}\")\n",
    "         move_disc(num-1, temp_core, to_core, from_core,)\n",
    "\n",
    "num_discs = 2\n",
    "from_core = 1\n",
    "to_core = 3\n",
    "temp_core = 2\n",
    "\n",
    "move_disc(num_discs, from_core, to_core, temp_core)\n"
   ]
  },
  {
   "cell_type": "code",
   "execution_count": 1,
   "metadata": {},
   "outputs": [
    {
     "name": "stdout",
     "output_type": "stream",
     "text": [
      "[-9, 1, 1, 2, 2, 2.5, 3, 3, 3, 4, 6, 7, 9, 18]\n"
     ]
    }
   ],
   "source": [
    "def merging(left,right):\n",
    "    newcabinet = []\n",
    "    while(min(len(left),len(right)) > 0):\n",
    "        if left[0] > right[0]:\n",
    "            to_insert = right.pop(0)\n",
    "            newcabinet.append(to_insert)\n",
    "        elif left[0] <= right[0]:\n",
    "            to_insert = left.pop(0)\n",
    "            newcabinet.append(to_insert)\n",
    "    if(len(left) > 0):\n",
    "        for i in left:\n",
    "            newcabinet.append(i)\n",
    "    if(len(right) > 0):\n",
    "        for i in right:\n",
    "            newcabinet.append(i)\n",
    "    return(newcabinet)\n",
    "\n",
    "import math\n",
    "    \n",
    "def mergesort(cabinet):\n",
    "    newcabinet = []\n",
    "    if(len(cabinet) == 1):\n",
    "         newcabinet=cabinet\n",
    "    else:\n",
    "        left = mergesort(cabinet[:math.floor(len(cabinet)/2)])\n",
    "        right = mergesort(cabinet[math.floor(len(cabinet)/2):])\n",
    "        newcabinet = merging(left,right)\n",
    "    return(newcabinet)\n",
    "\n",
    "cabinet = [4,1,3,2,6,3,18,2,9,7,3,1,2.5,-9]\n",
    "newcabinet=mergesort(cabinet)\n",
    "\n",
    "print(newcabinet)"
   ]
  }
 ],
 "metadata": {
  "kernelspec": {
   "display_name": "Python 3",
   "language": "python",
   "name": "python3"
  },
  "language_info": {
   "codemirror_mode": {
    "name": "ipython",
    "version": 3
   },
   "file_extension": ".py",
   "mimetype": "text/x-python",
   "name": "python",
   "nbconvert_exporter": "python",
   "pygments_lexer": "ipython3",
   "version": "3.10.6"
  },
  "orig_nbformat": 4
 },
 "nbformat": 4,
 "nbformat_minor": 2
}
