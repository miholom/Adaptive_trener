{
 "cells": [
  {
   "cell_type": "code",
   "execution_count": 11,
   "metadata": {},
   "outputs": [
    {
     "name": "stdout",
     "output_type": "stream",
     "text": [
      "8\n",
      "Fizz\n",
      "Buzz\n",
      "11\n",
      "Fizz\n",
      "13\n",
      "14\n",
      "FizzBuzz\n",
      "16\n"
     ]
    }
   ],
   "source": [
    "\"\"\"\n",
    "Fizz Buzz -- это классическая задача на программирование. Вот её немного изменённое условие.\n",
    "\n",
    "Напишите программу, которая принимает на вход два целых числа: начало и конец отрезка (оба числа входят в отрезок).\n",
    "\n",
    "Программа должна вывести числа из этого отрезка, но если число делится на 3, то вывести вместо него Fizz, если число делится на 5, вывести вместо него Buzz, а если делится и на три, и на 5, то вывести вместо этого числа FizzBuzz.\n",
    "\n",
    "Формат ввода:\n",
    "Два целых числа через пробел.\n",
    "\n",
    "Формат вывода:\n",
    "На отдельной строке каждое число из отрезка или слово, его заменяющее.\n",
    "\"\"\"\n",
    "\n",
    "input_data = input().split()\n",
    "a = int(input_data[0])\n",
    "b = int(input_data[1])\n",
    "\n",
    "test_list = [i for i in range(a, b+1)]\n",
    "\n",
    "for i in test_list:\n",
    "    if (i % 3 == 0) and (i % 5 == 0):\n",
    "        print(\"FizzBuzz\")\n",
    "    elif (i % 3 == 0) and ( i % 5 != 0):\n",
    "        print(\"Fizz\")\n",
    "    elif (i % 3 != 0) and ( i % 5 == 0):\n",
    "        print(\"Buzz\")\n",
    "    else:\n",
    "        print(i)"
   ]
  },
  {
   "cell_type": "code",
   "execution_count": 10,
   "metadata": {},
   "outputs": [
    {
     "name": "stdout",
     "output_type": "stream",
     "text": [
      "[8, 9, 10, 11, 12, 13, 14, 15, 16]\n",
      "8\n",
      "Fizz\n",
      "Buzz\n",
      "11\n",
      "Fizz\n",
      "13\n",
      "14\n",
      "FizzBuzz\n",
      "16\n"
     ]
    }
   ],
   "source": [
    "\"\"\"Test code\"\"\"\n",
    "\n",
    "input_data = \"8 16\".split()\n",
    "a = int(input_data[0])\n",
    "b = int(input_data[1])\n",
    "\n",
    "test_list = [i for i in range(a, b+1)]\n",
    "\n",
    "print(test_list)\n",
    "\n",
    "for i in test_list:\n",
    "    if (i % 3 == 0) and (i % 5 == 0):\n",
    "        print(\"FizzBuzz\")\n",
    "    elif (i % 3 == 0) and ( i % 5 != 0):\n",
    "        print(\"Fizz\")\n",
    "    elif (i % 3 != 0) and ( i % 5 == 0):\n",
    "        print(\"Buzz\")\n",
    "    else:\n",
    "        print(i)"
   ]
  }
 ],
 "metadata": {
  "kernelspec": {
   "display_name": "Python 3",
   "language": "python",
   "name": "python3"
  },
  "language_info": {
   "codemirror_mode": {
    "name": "ipython",
    "version": 3
   },
   "file_extension": ".py",
   "mimetype": "text/x-python",
   "name": "python",
   "nbconvert_exporter": "python",
   "pygments_lexer": "ipython3",
   "version": "3.10.6"
  },
  "orig_nbformat": 4
 },
 "nbformat": 4,
 "nbformat_minor": 2
}
