{
 "cells": [
  {
   "cell_type": "code",
   "execution_count": 1,
   "metadata": {},
   "outputs": [
    {
     "name": "stdout",
     "output_type": "stream",
     "text": [
      "x like false value!\n"
     ]
    }
   ],
   "source": [
    "\"\"\"При каких значениях переменной x будет выведена фраза?\"\"\"\n",
    "\n",
    "x = set()\n",
    "if not x:\n",
    "    print('x like false value!')"
   ]
  },
  {
   "cell_type": "code",
   "execution_count": 2,
   "metadata": {},
   "outputs": [
    {
     "name": "stdout",
     "output_type": "stream",
     "text": [
      "x like false value!\n"
     ]
    }
   ],
   "source": [
    "x = False\n",
    "if not x:\n",
    "    print('x like false value!')"
   ]
  },
  {
   "cell_type": "code",
   "execution_count": 3,
   "metadata": {},
   "outputs": [],
   "source": [
    "x = 'True'\n",
    "if not x:\n",
    "    print('x like false value!')"
   ]
  },
  {
   "cell_type": "code",
   "execution_count": 4,
   "metadata": {},
   "outputs": [
    {
     "name": "stdout",
     "output_type": "stream",
     "text": [
      "x like false value!\n"
     ]
    }
   ],
   "source": [
    "x = ()\n",
    "if not x:\n",
    "    print('x like false value!')"
   ]
  },
  {
   "cell_type": "code",
   "execution_count": 5,
   "metadata": {},
   "outputs": [
    {
     "name": "stdout",
     "output_type": "stream",
     "text": [
      "x like false value!\n"
     ]
    }
   ],
   "source": [
    "x = 0\n",
    "if not x:\n",
    "    print('x like false value!')"
   ]
  },
  {
   "cell_type": "code",
   "execution_count": 6,
   "metadata": {},
   "outputs": [
    {
     "name": "stdout",
     "output_type": "stream",
     "text": [
      "x like false value!\n"
     ]
    }
   ],
   "source": [
    "x = 0.0\n",
    "if not x:\n",
    "    print('x like false value!')"
   ]
  },
  {
   "cell_type": "code",
   "execution_count": 7,
   "metadata": {},
   "outputs": [],
   "source": [
    "x = object()\n",
    "if not x:\n",
    "    print('x like false value!')"
   ]
  },
  {
   "cell_type": "code",
   "execution_count": 8,
   "metadata": {},
   "outputs": [
    {
     "name": "stdout",
     "output_type": "stream",
     "text": [
      "x like false value!\n"
     ]
    }
   ],
   "source": [
    "x = 0j\n",
    "if not x:\n",
    "    print('x like false value!')"
   ]
  },
  {
   "cell_type": "code",
   "execution_count": 9,
   "metadata": {},
   "outputs": [],
   "source": [
    "x = float('inf')\n",
    "if not x:\n",
    "    print('x like false value!')"
   ]
  },
  {
   "cell_type": "code",
   "execution_count": 10,
   "metadata": {},
   "outputs": [],
   "source": [
    "x = [None, None]\n",
    "if not x:\n",
    "    print('x like false value!')"
   ]
  },
  {
   "cell_type": "code",
   "execution_count": 11,
   "metadata": {},
   "outputs": [],
   "source": [
    "x = 'False'\n",
    "if not x:\n",
    "    print('x like false value!')"
   ]
  },
  {
   "cell_type": "code",
   "execution_count": 12,
   "metadata": {},
   "outputs": [],
   "source": [
    "x = [None]\n",
    "if not x:\n",
    "    print('x like false value!')"
   ]
  },
  {
   "cell_type": "code",
   "execution_count": 13,
   "metadata": {},
   "outputs": [
    {
     "name": "stdout",
     "output_type": "stream",
     "text": [
      "x like false value!\n"
     ]
    }
   ],
   "source": [
    "x = None\n",
    "if not x:\n",
    "    print('x like false value!')"
   ]
  },
  {
   "cell_type": "code",
   "execution_count": 15,
   "metadata": {},
   "outputs": [
    {
     "name": "stdout",
     "output_type": "stream",
     "text": [
      "{'a': 1, 'b': 2, 'c': 3}\n",
      "[0, 1, 2, 3, 4]\n",
      "[]\n",
      "{0: 0, 1: 1, 2: 4, 3: 9, 4: 16}\n",
      "[1, 2, 3]\n",
      "[1, 2, 3]\n"
     ]
    }
   ],
   "source": [
    "dict1 = dict(zip(('a', 'b', 'c'), (1, 2, 3)))\n",
    "print(dict1)\n",
    "range5 = list(range(5))\n",
    "print(range5)\n",
    "lst1 = [i \n",
    "        for i in range5 \n",
    "        if i in dict1]\n",
    "print(lst1)\n",
    "dict2 = {i: i*i for i in range5}\n",
    "print(dict2)\n",
    "lst2 = [dict1[value] for value in dict1]\n",
    "print(lst2)\n",
    "lst3 = [i \n",
    "        for i in range5 \n",
    "        if i in lst2]\n",
    "print(lst3)"
   ]
  }
 ],
 "metadata": {
  "kernelspec": {
   "display_name": "Python 3",
   "language": "python",
   "name": "python3"
  },
  "language_info": {
   "codemirror_mode": {
    "name": "ipython",
    "version": 3
   },
   "file_extension": ".py",
   "mimetype": "text/x-python",
   "name": "python",
   "nbconvert_exporter": "python",
   "pygments_lexer": "ipython3",
   "version": "3.10.6"
  },
  "orig_nbformat": 4
 },
 "nbformat": 4,
 "nbformat_minor": 2
}
