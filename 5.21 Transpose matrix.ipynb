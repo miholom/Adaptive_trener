{
 "cells": [
  {
   "cell_type": "code",
   "execution_count": 22,
   "metadata": {},
   "outputs": [
    {
     "name": "stdout",
     "output_type": "stream",
     "text": [
      "1 4 \n",
      "2 5 \n",
      "3 6 \n"
     ]
    }
   ],
   "source": [
    "\"\"\"\n",
    "Напишите программу, которая принимает на вход матрицу, выполняет её транспонирование и выводит результат.\n",
    "\n",
    "Формат ввода:\n",
    "В первой строке указываются два целых числа n и m, количество строк и столбцов, соответственно.\n",
    "Далее следуют nn строк, содержащих по mm целых чисел, разделённых пробелом.\n",
    "\n",
    "Формат вывода:\n",
    "Программа должна вывести mm строк содержимого транспонированной матрицы. Элементы матрицы стоит разделять пробелом.\n",
    "\"\"\"\n",
    "\n",
    "input_data = input().split()\n",
    "n = int(input_data[0]) #number_row\n",
    "m = int(input_data[1]) #number of columns\n",
    "\n",
    "test_list = list()\n",
    "\n",
    "# input data through cycle while \n",
    "count_n = 0\n",
    "while count_n < n:\n",
    "    test_list.extend(input().split())\n",
    "    count_n += 1\n",
    "\n",
    "# generating zero list \n",
    "new_list = [[0 for j in range(n)] for i in range(m)]\n",
    "\n",
    "# creating ready matrix\n",
    "count = 0\n",
    "for i in range(0, n):\n",
    "    for j in range(0, m):\n",
    "        new_list[j][i] = test_list[count]\n",
    "        count += 1\n",
    "\n",
    "# print output data in terminal\n",
    "for i in new_list:\n",
    "    for j in i:\n",
    "        print(j, end=\" \")\n",
    "    print()"
   ]
  },
  {
   "cell_type": "code",
   "execution_count": 18,
   "metadata": {},
   "outputs": [
    {
     "name": "stdout",
     "output_type": "stream",
     "text": [
      "[[0, 0], [0, 0], [0, 0]]\n",
      "[['1', '4'], ['2', '5'], ['3', '6']]\n"
     ]
    }
   ],
   "source": [
    "\"\"\"Test version\"\"\"\n",
    "\n",
    "n = 2 #number_row\n",
    "m = 3 #number of columns\n",
    "\n",
    "test_list = ['1', '2', '3', '4', '5', '6']\n",
    "\n",
    "new_list = [[0 for j in range(n)] for i in range(m)]\n",
    "\n",
    "print(new_list)\n",
    "\n",
    "count = 0\n",
    "for i in range(0, n):\n",
    "    for j in range(0, m):\n",
    "        new_list[j][i] = test_list[count]\n",
    "        count += 1\n",
    "\n",
    "print(new_list)"
   ]
  }
 ],
 "metadata": {
  "kernelspec": {
   "display_name": "Python 3",
   "language": "python",
   "name": "python3"
  },
  "language_info": {
   "codemirror_mode": {
    "name": "ipython",
    "version": 3
   },
   "file_extension": ".py",
   "mimetype": "text/x-python",
   "name": "python",
   "nbconvert_exporter": "python",
   "pygments_lexer": "ipython3",
   "version": "3.10.6"
  },
  "orig_nbformat": 4
 },
 "nbformat": 4,
 "nbformat_minor": 2
}
