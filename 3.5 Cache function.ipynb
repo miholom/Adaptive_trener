{
 "cells": [
  {
   "cell_type": "code",
   "execution_count": null,
   "metadata": {},
   "outputs": [],
   "source": [
    "\"\"\"\n",
    "Имеется реализованная функция f(x), принимающая на вход целое число \n",
    "x, которая вычисляет некоторое целочисленое значение и возвращает его в качестве результата работы.\n",
    "\n",
    "Функция вычисляется достаточно долго, ничего не выводит на экран, не пишет в файлы и зависит только от переданного аргумента x.\n",
    "\n",
    "Напишите программу, которая вычисляет значение этой функции для n чисел. \n",
    "\n",
    "Для ускорения вычисления необходимо сохранять уже вычисленные значения функции при известных аргументах.\n",
    "\n",
    "Обратите внимание, что в этой задаче установлено достаточно сильное ограничение в две секунды по времени исполнения кода на тесте. \n",
    "\n",
    "Формат ввода:\n",
    "На первой строке находится число n количество значений, на которых нужно посчитать функцию. После этого следует n строк, на каждой строке по одному целому числу.\n",
    "\n",
    "Формат вывода:\n",
    "n строк, в каждой из которой результат вычисления функции на соответствующем аргументе.\n",
    "\"\"\"\n",
    "n = int(input())\n",
    "\n",
    "test_list = [int(input()) for i in range(n)]\n",
    "\n",
    "for x in test_list:\n",
    "    print(f(x), end=\"\\n\")"
   ]
  },
  {
   "cell_type": "code",
   "execution_count": 3,
   "metadata": {},
   "outputs": [
    {
     "name": "stdout",
     "output_type": "stream",
     "text": [
      "5\n",
      "5\n",
      "5\n",
      "5\n",
      "5\n"
     ]
    }
   ],
   "source": [
    "\"\"\"Test code\"\"\"\n",
    "\n",
    "n = 5\n",
    "\n",
    "test_list = [int(input()) for i in range(n)]\n",
    "\n",
    "for i in test_list:\n",
    "    print(i, end=\"\\n\")"
   ]
  }
 ],
 "metadata": {
  "kernelspec": {
   "display_name": "Python 3",
   "language": "python",
   "name": "python3"
  },
  "language_info": {
   "codemirror_mode": {
    "name": "ipython",
    "version": 3
   },
   "file_extension": ".py",
   "mimetype": "text/x-python",
   "name": "python",
   "nbconvert_exporter": "python",
   "pygments_lexer": "ipython3",
   "version": "3.10.6"
  },
  "orig_nbformat": 4
 },
 "nbformat": 4,
 "nbformat_minor": 2
}
