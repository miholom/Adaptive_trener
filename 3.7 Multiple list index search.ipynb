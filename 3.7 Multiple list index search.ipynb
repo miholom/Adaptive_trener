{
 "cells": [
  {
   "cell_type": "code",
   "execution_count": 11,
   "metadata": {},
   "outputs": [
    {
     "name": "stdout",
     "output_type": "stream",
     "text": [
      "None\n"
     ]
    }
   ],
   "source": [
    "\"\"\"\n",
    "Напишите программу, которая принимает на вход список чисел и число, после чего выводит все позиции, на которых это число встречается в переданном списке.\n",
    "\n",
    "Позиции в списке нумеруются с нуля.\n",
    "Если число x не найдено в списке, нужно вывести строку \"None\" (без кавычек, с большой буквы).\n",
    "\n",
    "Формат ввода:\n",
    "На первой строке содержатся значения списка -- целые числа, разделённые пробелом. На второй строке содержится целое число, позиции которого нужно найти.\n",
    "\n",
    "Формат вывода:\n",
    "Одна строка, в которой содержится слово \"None\" или через пробел перечислены числа -- позиции, на которых число x встречается в списке lst. Позиции должны быть выведены в порядке возрастания.\n",
    "\"\"\"\n",
    "\n",
    "inpit_data_a: str = input().split()\n",
    "inpit_data_b: str = input()\n",
    "\n",
    "test_list = list()\n",
    "for index, data in enumerate(inpit_data_a):\n",
    "    if data == inpit_data_b:\n",
    "        test_list.append(index)\n",
    "    \n",
    "if len(test_list) == 0:\n",
    "    print('None')\n",
    "else:\n",
    "    print(*test_list)\n",
    "\n"
   ]
  },
  {
   "cell_type": "code",
   "execution_count": 3,
   "metadata": {},
   "outputs": [
    {
     "name": "stdout",
     "output_type": "stream",
     "text": [
      "None\n"
     ]
    }
   ],
   "source": [
    "\"\"\"Test ver 0\"\"\"\n",
    "\n",
    "inpit_data_a = \"5 8 2 7 8 8 2 4\".split()\n",
    "inpit_data_b = \"10\"\n",
    "\n",
    "test_list = list()\n",
    "for index, data in enumerate(inpit_data_a):\n",
    "    if data == inpit_data_b:\n",
    "        test_list.append(index)\n",
    "    \n",
    "if len(test_list) == 0:\n",
    "    print('None')\n",
    "else:\n",
    "    print(*test_list)"
   ]
  }
 ],
 "metadata": {
  "kernelspec": {
   "display_name": "Python 3",
   "language": "python",
   "name": "python3"
  },
  "language_info": {
   "codemirror_mode": {
    "name": "ipython",
    "version": 3
   },
   "file_extension": ".py",
   "mimetype": "text/x-python",
   "name": "python",
   "nbconvert_exporter": "python",
   "pygments_lexer": "ipython3",
   "version": "3.10.6"
  },
  "orig_nbformat": 4
 },
 "nbformat": 4,
 "nbformat_minor": 2
}
