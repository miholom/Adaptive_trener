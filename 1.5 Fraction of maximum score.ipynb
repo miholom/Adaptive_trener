{
 "cells": [
  {
   "cell_type": "code",
   "execution_count": 21,
   "metadata": {},
   "outputs": [
    {
     "name": "stdout",
     "output_type": "stream",
     "text": [
      "0.38\n"
     ]
    }
   ],
   "source": [
    "\"\"\"\n",
    "Напишите программу, которая вычисляет долю студентов, получивших оценку A.\n",
    "\n",
    "Используется пятибальная система оценивания с оценками A, B, C, D, F.\n",
    "\n",
    "Формат ввода:\n",
    "Строка, в которой через пробел записаны оценки студентов. Оценок всегда не меньше одной.\n",
    "\n",
    "Формат вывода:\n",
    "Дробное число с ровно двумя знаками после запятой.\n",
    "\"\"\"\n",
    "\n",
    "input_data = input().split()\n",
    "\n",
    "PROCENT = len(input_data)/100\n",
    "\n",
    "count_A = input_data.count(\"A\")\n",
    "\n",
    "print(f\"{(count_A/PROCENT)/100:.2f}\")"
   ]
  },
  {
   "cell_type": "code",
   "execution_count": 19,
   "metadata": {},
   "outputs": [
    {
     "data": {
      "text/plain": [
       "0.0"
      ]
     },
     "execution_count": 19,
     "metadata": {},
     "output_type": "execute_result"
    }
   ],
   "source": [
    "\"\"\"Test version\"\"\"\n",
    "\n",
    "input_data = ['F', 'B', 'A', 'A', 'B', 'C', 'A', 'D',]\n",
    "\n",
    "PROCENT = len(input_data)/100\n",
    "\n",
    "count_A = input_data.count(\"A\")\n",
    "\n",
    "print(f\"{(count_A/PROCENT)/100:.2f}\")"
   ]
  }
 ],
 "metadata": {
  "kernelspec": {
   "display_name": "Python 3",
   "language": "python",
   "name": "python3"
  },
  "language_info": {
   "codemirror_mode": {
    "name": "ipython",
    "version": 3
   },
   "file_extension": ".py",
   "mimetype": "text/x-python",
   "name": "python",
   "nbconvert_exporter": "python",
   "pygments_lexer": "ipython3",
   "version": "3.10.6"
  },
  "orig_nbformat": 4
 },
 "nbformat": 4,
 "nbformat_minor": 2
}
