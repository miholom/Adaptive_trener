{
 "cells": [
  {
   "cell_type": "code",
   "execution_count": 7,
   "metadata": {},
   "outputs": [
    {
     "name": "stdout",
     "output_type": "stream",
     "text": [
      "1 2 3 4 5 6 7 8 \n",
      "28 29 30 31 32 33 34 9 \n",
      "27 48 49 50 51 52 35 10 \n",
      "26 47 60 61 62 53 36 11 \n",
      "25 46 59 64 63 54 37 12 \n",
      "24 45 58 57 56 55 38 13 \n",
      "23 44 43 42 41 40 39 14 \n",
      "22 21 20 19 18 17 16 15 \n"
     ]
    }
   ],
   "source": [
    "\"\"\"\n",
    "Выведите таблицу размером \n",
    "nxn, заполненную целыми числами от 1 до n в квадрате\n",
    "\n",
    "по спирали, выходящей из левого верхнего угла и закрученной по часовой стрелке, как показано в примере.\n",
    "\n",
    "Формат ввода:\n",
    "Одна строка, содержащая одно целое число n, n>0.\n",
    "\n",
    "Формат вывода:\n",
    "Таблица из n строк, значения в строках разделены пробелом.\n",
    "\"\"\"\n",
    "\n",
    "n = int(input())                                    # это задание из первого курса по питону, решал его неделю впервые\n",
    "a = [[0 for z in range(n)] for y in range(n)]       # заново изобретать велосипед не вижу смысла, поэтому нашел старое решение\n",
    "count = 1\n",
    "a[0][0] = 1\n",
    "m = 1\n",
    "q = 0\n",
    "w = 0\n",
    "v = 0\n",
    "z = 0 \n",
    "for i in range(len(a)):\n",
    "    for j in range(len(a[i])):\n",
    "        if int(a[0][(j - 1) + 1]) == 0:\n",
    "            count += 1\n",
    "            a[i][j] = count   \n",
    "while m < n:\n",
    "    for i in range(len(a)): #1\n",
    "        for j in range(len(a[i])):\n",
    "            if int(a[i][-1+q]) != 0:\n",
    "                count += 0\n",
    "                a[i][-1+q] += 0\n",
    "            elif int(a[i][-1+q]) == 0:\n",
    "                count += 1\n",
    "                a[i][-1+q] = count\n",
    "    for i in range(len(a)): #2\n",
    "        for j in range(len(a[i]) - 1, -1, -1):\n",
    "            if int(a[-1+w][j]) != 0:\n",
    "                count += 0\n",
    "                a[-1+w][j] += 0\n",
    "            elif int(a[-1+w][j]) == 0:\n",
    "                count += 1\n",
    "                a[-1+w][j] = count\n",
    "    for i in range(len(a) - 1, -1, -1): #3\n",
    "        for j in range(len(a[i])):\n",
    "            if int(a[i][0+v]) != 0:\n",
    "                count += 0\n",
    "                a[i][0+v] += 0\n",
    "            elif int(a[i][0+v]) == 0:\n",
    "                count += 1\n",
    "                a[i][0+v] = count\n",
    "    z += 1\n",
    "    for i in range(len(a)): #4\n",
    "        for j in range(len(a[i])):\n",
    "            if int(a[0+z][j]) != 0:\n",
    "                count += 0\n",
    "                a[0+z][j] += 0\n",
    "            elif int(a[0+z][j]) == 0:\n",
    "                count += 1\n",
    "                a[0+z][j] = count\n",
    "    m += 1\n",
    "    q -= 1\n",
    "    w -= 1\n",
    "    v += 1\n",
    "for i in range(len(a)):\n",
    "    for j in range(len(a[i])):\n",
    "        print(a[i][j], end=' ')\n",
    "    print()\n"
   ]
  }
 ],
 "metadata": {
  "kernelspec": {
   "display_name": "Python 3",
   "language": "python",
   "name": "python3"
  },
  "language_info": {
   "codemirror_mode": {
    "name": "ipython",
    "version": 3
   },
   "file_extension": ".py",
   "mimetype": "text/x-python",
   "name": "python",
   "nbconvert_exporter": "python",
   "pygments_lexer": "ipython3",
   "version": "3.10.6"
  },
  "orig_nbformat": 4
 },
 "nbformat": 4,
 "nbformat_minor": 2
}
