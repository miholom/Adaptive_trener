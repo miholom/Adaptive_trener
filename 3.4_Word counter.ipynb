{
 "cells": [
  {
   "cell_type": "code",
   "execution_count": 8,
   "metadata": {},
   "outputs": [
    {
     "name": "stdout",
     "output_type": "stream",
     "text": [
      "['a', 'aa', 'abc', 'aa', 'ac', 'abc', 'bcd', 'a']\n",
      "{'ac', 'abc', 'bcd', 'aa', 'a'}\n",
      "ac 1\n",
      "abc 2\n",
      "bcd 1\n",
      "aa 2\n",
      "a 2\n"
     ]
    }
   ],
   "source": [
    "# Input\n",
    "first_input = input() # \"a aa abC aa ac abc bcd a\"\n",
    "\n",
    "# create list from first_input\n",
    "second_list = list(first_input.lower().split())\n",
    "\n",
    "# create set and after, second_list filter uniaue volues\n",
    "third_set = set()\n",
    "\n",
    "for i in second_list:\n",
    "    third_set.add(i)\n",
    "\n",
    "# 'for' and 'count' and 'f' do this shits, and programm work well\n",
    "count = 0\n",
    "for k in third_set:\n",
    "    for i in second_list:\n",
    "        if k == i:\n",
    "            count +=1\n",
    "    print(f\"{k} {count}\")\n",
    "    count = 0\n",
    "\n",
    "\n",
    "    \n",
    "\n",
    "\n"
   ]
  }
 ],
 "metadata": {
  "kernelspec": {
   "display_name": "Python 3",
   "language": "python",
   "name": "python3"
  },
  "language_info": {
   "codemirror_mode": {
    "name": "ipython",
    "version": 3
   },
   "file_extension": ".py",
   "mimetype": "text/x-python",
   "name": "python",
   "nbconvert_exporter": "python",
   "pygments_lexer": "ipython3",
   "version": "3.10.6"
  },
  "orig_nbformat": 4
 },
 "nbformat": 4,
 "nbformat_minor": 2
}
