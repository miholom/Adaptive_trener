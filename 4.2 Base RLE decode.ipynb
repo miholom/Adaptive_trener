{
 "cells": [
  {
   "cell_type": "code",
   "execution_count": 80,
   "metadata": {},
   "outputs": [
    {
     "name": "stdout",
     "output_type": "stream",
     "text": [
      "[' ', 'z', ' ', '3', '3', ' ', 'a', ' ', ' ', 'b', ' ', '4', ' ', 'c', ' ', '2', '1', ' ', 'C', ' ', ' ', 'a', ' ', ' ', 'B', ' ']\n",
      "['z', '33', 'a', 'b', '4', 'c', '21', 'C', 'a', 'B']\n",
      "zaaaaaaaaaaaaaaaaaaaaaaaaaaaaaaaaabccccCCCCCCCCCCCCCCCCCCCCCaB"
     ]
    }
   ],
   "source": [
    "first_input = \"z33ab4c21CaB\" # input()\n",
    "list_from_input = list()\n",
    "\n",
    "# 1.\n",
    "# Вся проблема это задачи в том что числа могут быть двузначные и более\n",
    "# поэтому просто так нельзя разложить все в список\n",
    "# необходимо пройти цикл в котором мы отделим цифры от букв пробелами\n",
    "# после чего все склеим и разделим по созданным пробелам\n",
    "\n",
    "for index, values in enumerate(first_input):\n",
    "    if values.isdigit():\n",
    "        list_from_input.append(values)\n",
    "    elif not values.isdigit():\n",
    "        list_from_input.append(\" \")\n",
    "        list_from_input.append(values)\n",
    "        list_from_input.append(\" \")\n",
    "      \n",
    "string = \"\".join(list_from_input).split()     \n",
    "\n",
    "# 2.\n",
    "# Во втором блоке мы делаем несложную логику где если первый индекс буква то его на печать\n",
    "# если число - то мы пропускаем его\n",
    "# если буква, а перел буквой число, то умножаем в принте \n",
    "# если буква, п перед буков й буква, про просто принт \n",
    "\n",
    "for i, v  in enumerate(string):\n",
    "    if string[i].isalpha() and i==0:\n",
    "        print(string[0], end=\"\")\n",
    "    elif string[i].isdigit():\n",
    "        continue\n",
    "    elif string[i].isalpha() and string[i-1].isdigit():\n",
    "        print(int(string[i-1])*string[i], end=\"\")\n",
    "    elif string[i].isalpha() and string[i-1].isalpha():\n",
    "        print(string[i], end=\"\") \n"
   ]
  }
 ],
 "metadata": {
  "kernelspec": {
   "display_name": "Python 3",
   "language": "python",
   "name": "python3"
  },
  "language_info": {
   "name": "python",
   "version": "3.10.6"
  },
  "orig_nbformat": 4
 },
 "nbformat": 4,
 "nbformat_minor": 2
}
