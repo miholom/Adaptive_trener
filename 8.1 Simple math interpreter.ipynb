{
 "cells": [
  {
   "cell_type": "code",
   "execution_count": 1,
   "metadata": {},
   "outputs": [
    {
     "name": "stdout",
     "output_type": "stream",
     "text": [
      "53\n"
     ]
    }
   ],
   "source": [
    "operators = ['plus', \n",
    "             'minus', \n",
    "             'multiply', \n",
    "             'divide',\n",
    "             ]\n",
    "\n",
    "while True:\n",
    "    first_input = input()\n",
    "    a, operator, b = first_input.split()\n",
    "    a = int(a)\n",
    "    b = int(b)\n",
    "    if (0 <= a, b <= 1000) and (operator in operators):\n",
    "        break\n",
    "    else:\n",
    "        continue\n",
    "\n",
    "if operator == operators[0]: # plus\n",
    "    print(a + b)\n",
    "elif operator == operators[1]: # minus\n",
    "    print(a - b)\n",
    "elif operator == operators[2]: # multiply\n",
    "    print(a * b)\n",
    "elif operator == operators[3]: # divide\n",
    "    print(a // b)"
   ]
  }
 ],
 "metadata": {
  "kernelspec": {
   "display_name": "Python 3",
   "language": "python",
   "name": "python3"
  },
  "language_info": {
   "codemirror_mode": {
    "name": "ipython",
    "version": 3
   },
   "file_extension": ".py",
   "mimetype": "text/x-python",
   "name": "python",
   "nbconvert_exporter": "python",
   "pygments_lexer": "ipython3",
   "version": "3.10.6"
  },
  "orig_nbformat": 4
 },
 "nbformat": 4,
 "nbformat_minor": 2
}
