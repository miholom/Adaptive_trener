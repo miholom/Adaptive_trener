{
 "cells": [
  {
   "cell_type": "code",
   "execution_count": null,
   "metadata": {},
   "outputs": [],
   "source": [
    "\"\"\"\n",
    "Напишите функцию get_int(start_message, error_message, end_message), принимающую три строки в качестве аргументов. \n",
    "\n",
    "Функция должна запрашивать у пользователя ввод до тех пор, пока не будет введено целое число (строка, принимаемая функцией int без ошибок). \n",
    "\n",
    "Перед первым запросом ввода должен быть выведен аргумент start_message, после каждого ошибочного ввода нужно выводить значение строки error_message и при удачном вводе нужно вывести строку end_message и вернуть полученное целое число из функции (см. пример работы). Каждое выводимое сообщение должно находиться на отдельной строке.\n",
    "\n",
    "Например, вызов\n",
    "\n",
    "x = get_int('Input int number:', 'Wrong value. Input int number:', 'Thank you.')\n",
    "Отработает следующим образом (каждая вторая строка описывает ввод пользователя):\n",
    "\n",
    "Input int number:\n",
    "ten\n",
    "Wrong value. Input int number:\n",
    "ten (10)\n",
    "Wrong value. Input int number:\n",
    "10\n",
    "Thank you.\n",
    "После чего значение переменной x будет равно 10.\n",
    "\n",
    "Код решения не должен содержать вызова функции get_int. Гарантируется, что в какой-то момент пользователем будет введено целое число.\n",
    "\"\"\"\n",
    "\n",
    "\n",
    "def get_int(start_message, error_message, end_message):\n",
    "    print(start_message)\n",
    "    while True:                                                     # создаем бесконечный цикл\n",
    "        a = input()                                                 # вводим значение\n",
    "    \n",
    "        try:                                                        # создаем исключение\n",
    "            b = int(a)                                              # если Б может перевестись в целое число, то заканчиваем цикл и возвращаем Б в переменную\n",
    "            print(end_message)\n",
    "            break\n",
    "        \n",
    "        except:                                                     # а если возникает исключение, то Б не переводится в целое число и мы запускаем цикл по новой\n",
    "            print(error_message)\n",
    "            continue\n",
    "\n",
    "    return b\n",
    "\n",
    "\n"
   ]
  },
  {
   "cell_type": "code",
   "execution_count": 37,
   "metadata": {},
   "outputs": [
    {
     "name": "stdout",
     "output_type": "stream",
     "text": [
      "Input int number:\n",
      "ten\n",
      "Wrong value. Input int number:\n",
      "1\n",
      "Thank you.\n",
      "<class 'int'>\n"
     ]
    }
   ],
   "source": [
    "\"\"\"test version\"\"\"\n",
    "start_message = 'Input int number:'\n",
    "error_message = 'Wrong value. Input int number:'\n",
    "end_message = 'Thank you.'\n",
    "\n",
    "def get_int(start_message, error_message, end_message):\n",
    "    print(start_message)\n",
    "    while True:\n",
    "        a = input()\n",
    "    \n",
    "        try:\n",
    "            b = int(a)\n",
    "            print(b)\n",
    "            print(end_message)\n",
    "            break\n",
    "        \n",
    "        except:\n",
    "            print(a)\n",
    "            print(error_message)\n",
    "            continue\n",
    "\n",
    "    return b\n",
    "\n",
    "\n",
    "x = get_int(start_message, error_message, end_message)\n",
    "\n",
    "print(type(x))"
   ]
  },
  {
   "cell_type": "code",
   "execution_count": 22,
   "metadata": {},
   "outputs": [
    {
     "name": "stdout",
     "output_type": "stream",
     "text": [
      "False\n",
      "fuck you\n"
     ]
    }
   ],
   "source": [
    "\"\"\"tests\"\"\"\n",
    "start_message = 'Input int number:'\n",
    "a = \"-6\"\n",
    "\n",
    "print(a.isdigit())\n",
    "if a.isdigit() == True:\n",
    "    print(int(a))\n",
    "else:\n",
    "    print(\"fuck you\")"
   ]
  }
 ],
 "metadata": {
  "kernelspec": {
   "display_name": "Python 3",
   "language": "python",
   "name": "python3"
  },
  "language_info": {
   "codemirror_mode": {
    "name": "ipython",
    "version": 3
   },
   "file_extension": ".py",
   "mimetype": "text/x-python",
   "name": "python",
   "nbconvert_exporter": "python",
   "pygments_lexer": "ipython3",
   "version": "3.10.6"
  },
  "orig_nbformat": 4
 },
 "nbformat": 4,
 "nbformat_minor": 2
}
