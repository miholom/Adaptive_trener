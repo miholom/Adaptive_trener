{
 "cells": [
  {
   "cell_type": "code",
   "execution_count": 50,
   "metadata": {},
   "outputs": [
    {
     "name": "stdout",
     "output_type": "stream",
     "text": [
      "3ab4c2CaB"
     ]
    }
   ],
   "source": [
    "# Из-за того что при \"цикле фор\", если мы используем \"индекс+1\" то всегда уходим\n",
    "# за рамки пришлось к строчке прибавить левый знак\n",
    "first_input = \"aaabccccCCaB\" # input()\n",
    "first_input_1 = first_input + '+'\n",
    "\n",
    "# создаем счетчик, чтобы считать кол-во вхождений\n",
    "count = 1\n",
    "\n",
    "# делаем \"цикл фор\" и в нем ловим исключение, когда поймали его пропускаем, оно должно в конце быть. как только\n",
    "# пропускаем прога заканчивает работу\n",
    "for index, volue in enumerate(first_input_1):\n",
    "    try:\n",
    "        if first_input_1[index] == first_input_1[index+1]:\n",
    "            count += 1\n",
    "                \n",
    "        elif first_input_1[index] != first_input_1[index+1]:\n",
    "            if count <= 1:\n",
    "                print(f\"{first_input_1[index]}\", end=\"\")\n",
    "                count = 1\n",
    "            elif count != 1:\n",
    "                print(f\"{count}{first_input_1[index]}\", end=\"\")\n",
    "                count = 1\n",
    "    except:\n",
    "        continue\n",
    "    \n",
    "    "
   ]
  }
 ],
 "metadata": {
  "kernelspec": {
   "display_name": "Python 3",
   "language": "python",
   "name": "python3"
  },
  "language_info": {
   "codemirror_mode": {
    "name": "ipython",
    "version": 3
   },
   "file_extension": ".py",
   "mimetype": "text/x-python",
   "name": "python",
   "nbconvert_exporter": "python",
   "pygments_lexer": "ipython3",
   "version": "3.10.6"
  },
  "orig_nbformat": 4
 },
 "nbformat": 4,
 "nbformat_minor": 2
}
