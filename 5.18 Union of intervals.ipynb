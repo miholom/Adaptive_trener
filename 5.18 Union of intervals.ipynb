{
 "cells": [
  {
   "cell_type": "code",
   "execution_count": 6,
   "metadata": {},
   "outputs": [
    {
     "name": "stdout",
     "output_type": "stream",
     "text": [
      "True\n"
     ]
    }
   ],
   "source": [
    "\"\"\"\n",
    "Напишите программу, принимающую на вход целое число, которая выводит True, если переданное значение попадает в множество объединённых интервалов \n",
    "{-10}U(-5,3]U(8,12)U[16,+∞) и False в противном случае.\n",
    "\n",
    "Обратите внимание на разные скобки, используемые для обозначения интервалов. В задании используются полуоткрытые и открытые интервалы. \n",
    "Подробнее про это вы можете прочитать, например, на википедии https://en.wikipedia.org/wiki/Interval_(mathematics).\n",
    "\"\"\"\n",
    "\n",
    "input_data: int = int(input())\n",
    "\n",
    "if (input_data == -10) or (-5 < input_data <= 3) or (8 < input_data < 12) or (16 <= input_data):\n",
    "    print(True)\n",
    "else:\n",
    "    print(False)\n"
   ]
  }
 ],
 "metadata": {
  "kernelspec": {
   "display_name": "Python 3",
   "language": "python",
   "name": "python3"
  },
  "language_info": {
   "codemirror_mode": {
    "name": "ipython",
    "version": 3
   },
   "file_extension": ".py",
   "mimetype": "text/x-python",
   "name": "python",
   "nbconvert_exporter": "python",
   "pygments_lexer": "ipython3",
   "version": "3.10.6"
  },
  "orig_nbformat": 4
 },
 "nbformat": 4,
 "nbformat_minor": 2
}
