{
 "cells": [
  {
   "cell_type": "code",
   "execution_count": 40,
   "metadata": {},
   "outputs": [
    {
     "name": "stdout",
     "output_type": "stream",
     "text": [
      "V\n",
      "IV\n",
      "XIV\n",
      "XX\n",
      "XXX\n",
      "LXXX\n",
      "MLXXX\n",
      "CM\n",
      "MCM\n",
      "['CM', 'LXXX', 'IV']\n"
     ]
    }
   ],
   "source": [
    "DATA_DICT = {'I': 1, \n",
    "            'II':2, \n",
    "            'III': 4, \n",
    "            'IV': 4, \n",
    "            'V': 5,\n",
    "            'VI': 6, \n",
    "            'VII': 7, \n",
    "            'VIII': 8, \n",
    "            'IX': 9, \n",
    "            'X': 10, \n",
    "            'XX': 20,\n",
    "            'XXX': 30, \n",
    "            'XL': 40, \n",
    "            'L': 50, \n",
    "            'LX': 60, \n",
    "            'LXX': 70, \n",
    "            'LXXX': 80, \n",
    "            'XC': 90, \n",
    "            'C': 100,\n",
    "            'CC': 200, \n",
    "            'CCC': 300, \n",
    "            'CD': 400, \n",
    "            'D': 500, \n",
    "            'DC': 600, \n",
    "            'DCC': 700, \n",
    "            'DCCC': 800,\n",
    "            'CM': 900, \n",
    "            'M': 1000, \n",
    "            'MM': 2000, \n",
    "            'MMM': 3000\n",
    "            }\n",
    "\n",
    "input_data = \"MCMLXXXIV\"\n",
    "input_data_2 = [i for i in input_data]\n",
    "test = ''\n",
    "test_list = []\n",
    "a = \"\"\n",
    "\n",
    "for data in range(len(input_data), 0, -1):\n",
    "    test = input_data_2[data-1] + test\n",
    "    print(test)\n",
    "    if test in DATA_DICT:\n",
    "        continue\n",
    "    elif test not in DATA_DICT:\n",
    "        test_list.insert(0, test[1:])\n",
    "        a = test[0]\n",
    "        test = ''\n",
    "        test = a\n",
    "\n",
    "    \n",
    "\n",
    "print(test_list)"
   ]
  }
 ],
 "metadata": {
  "kernelspec": {
   "display_name": "Python 3",
   "language": "python",
   "name": "python3"
  },
  "language_info": {
   "codemirror_mode": {
    "name": "ipython",
    "version": 3
   },
   "file_extension": ".py",
   "mimetype": "text/x-python",
   "name": "python",
   "nbconvert_exporter": "python",
   "pygments_lexer": "ipython3",
   "version": "3.10.6"
  },
  "orig_nbformat": 4
 },
 "nbformat": 4,
 "nbformat_minor": 2
}
