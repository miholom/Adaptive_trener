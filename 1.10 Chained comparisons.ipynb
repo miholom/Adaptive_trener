{
 "cells": [
  {
   "cell_type": "code",
   "execution_count": 2,
   "metadata": {},
   "outputs": [
    {
     "name": "stdout",
     "output_type": "stream",
     "text": [
      "f\n",
      "t\n",
      "f\n",
      "f\n",
      "t\n",
      "t\n",
      "f\n",
      "0\n"
     ]
    }
   ],
   "source": [
    "def t():\n",
    "    print('t')\n",
    "    return True\n",
    "\n",
    "def f():\n",
    "    print('f')\n",
    "    return False\n",
    "\n",
    "x = 0\n",
    "if f() < t() < f():\n",
    "    x += 1\n",
    "\n",
    "if f() < t() and t() < f():\n",
    "    x += 1\n",
    "\n",
    "print(x)"
   ]
  }
 ],
 "metadata": {
  "kernelspec": {
   "display_name": "Python 3",
   "language": "python",
   "name": "python3"
  },
  "language_info": {
   "codemirror_mode": {
    "name": "ipython",
    "version": 3
   },
   "file_extension": ".py",
   "mimetype": "text/x-python",
   "name": "python",
   "nbconvert_exporter": "python",
   "pygments_lexer": "ipython3",
   "version": "3.10.6"
  },
  "orig_nbformat": 4
 },
 "nbformat": 4,
 "nbformat_minor": 2
}
