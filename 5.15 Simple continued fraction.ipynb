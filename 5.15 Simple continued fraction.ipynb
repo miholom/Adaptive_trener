{
 "cells": [
  {
   "cell_type": "code",
   "execution_count": 15,
   "metadata": {},
   "outputs": [
    {
     "name": "stdout",
     "output_type": "stream",
     "text": [
      "7 1 29 "
     ]
    }
   ],
   "source": [
    "\"\"\"Известно, что любую обыкновенную дробь можно записать в виде конечной простой непрерывной дроби.\n",
    "\n",
    "Напишите программу, которая преобразует обыкновенную дробь в последовательность коэффициентов \n",
    "\"\"\"\n",
    "\n",
    "input_data = input().split('/')                     # блок ввода и разделения на части наши переменные, \n",
    "                                                    # с переводом в числа\n",
    "a = int(input_data[0])\n",
    "b = int(input_data[1])\n",
    "\n",
    "def finite_simple_continued_fraction(a, b):         # создаем функцию рекурсивную, пока не дайдем до нуля, причем делаем исключение так\n",
    "    c = a//b                                        # причем делаем исключение так  \n",
    "    e = a%b                                         # чтобы при делении ни ноль последнего числа,  \n",
    "    try:                                            # функция прекращалась и мы ловили ошибку деления на ноль\n",
    "        if e >= 0:\n",
    "            print(c, end=\" \")\n",
    "            d = a - (c*b)\n",
    "            finite_simple_continued_fraction(b, d) \n",
    "    except ZeroDivisionError:\n",
    "        pass\n",
    "\n",
    "finite_simple_continued_fraction(a, b)              # здесь мы просто запрускаем нашу рекурсивную функцию \n",
    "                                                    # с нашими вводными данными"
   ]
  },
  {
   "cell_type": "code",
   "execution_count": 16,
   "metadata": {},
   "outputs": [
    {
     "name": "stdout",
     "output_type": "stream",
     "text": [
      "0 6 3 "
     ]
    }
   ],
   "source": [
    "\"\"\"Test version\"\"\"\n",
    "\n",
    "input_data = \"3/19\".split('/')\n",
    "\n",
    "a = int(input_data[0])\n",
    "b = int(input_data[1])\n",
    "\n",
    "test_list = list\n",
    "\n",
    "def finite_simple_continued_fraction(a, b):\n",
    "    global test_list\n",
    "    c = a//b\n",
    "    e = a%b\n",
    "    try: \n",
    "        if e >= 0:\n",
    "            print(c, end=\" \")\n",
    "            d = a - (c*b)\n",
    "            finite_simple_continued_fraction(b, d) \n",
    "    except ZeroDivisionError:\n",
    "        pass\n",
    "\n",
    "finite_simple_continued_fraction(a, b)\n",
    "\n",
    "\n",
    "    "
   ]
  }
 ],
 "metadata": {
  "kernelspec": {
   "display_name": "Python 3",
   "language": "python",
   "name": "python3"
  },
  "language_info": {
   "codemirror_mode": {
    "name": "ipython",
    "version": 3
   },
   "file_extension": ".py",
   "mimetype": "text/x-python",
   "name": "python",
   "nbconvert_exporter": "python",
   "pygments_lexer": "ipython3",
   "version": "3.10.6"
  },
  "orig_nbformat": 4
 },
 "nbformat": 4,
 "nbformat_minor": 2
}
