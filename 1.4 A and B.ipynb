{
 "cells": [
  {
   "cell_type": "code",
   "execution_count": 10,
   "metadata": {},
   "outputs": [
    {
     "name": "stdout",
     "output_type": "stream",
     "text": [
      "X and Y sat in the tree.\n",
      "X had fallen, Y was stolen.\n",
      "What's remaining in the tree?\n"
     ]
    }
   ],
   "source": [
    "first_input = input() # \"X\"\n",
    "second_input = input() # \"Y\"\n",
    "\n",
    "print(f\"{first_input} and {second_input} sat in the tree.\\n{first_input} had fallen, {second_input} was stolen.\\nWhat's remaining in the tree?\")\n",
    "\n"
   ]
  }
 ],
 "metadata": {
  "kernelspec": {
   "display_name": "Python 3",
   "language": "python",
   "name": "python3"
  },
  "language_info": {
   "codemirror_mode": {
    "name": "ipython",
    "version": 3
   },
   "file_extension": ".py",
   "mimetype": "text/x-python",
   "name": "python",
   "nbconvert_exporter": "python",
   "pygments_lexer": "ipython3",
   "version": "3.10.6"
  },
  "orig_nbformat": 4
 },
 "nbformat": 4,
 "nbformat_minor": 2
}
