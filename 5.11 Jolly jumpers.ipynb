{
 "cells": [
  {
   "cell_type": "code",
   "execution_count": 15,
   "metadata": {},
   "outputs": [
    {
     "name": "stdout",
     "output_type": "stream",
     "text": [
      "Jolly\n"
     ]
    }
   ],
   "source": [
    "input_data = input().split()                                                # Получаем данные\n",
    "\n",
    "n = len(input_data) - 1                                                     # Сразу делаем условие для N из описания к задаче\n",
    "\n",
    "list_n = [str(i) for i in range(1, len(input_data))]                       # Создаем список из N, в котором потом будем отфильтрововать попавшиеся совпадения\n",
    "                                                                            # и если после всех итераций список будет пуст, значит наша последовательность\n",
    "                                                                            # является Джолли, но при этом если последовательность из одного числа, то она автоматом Джолли\n",
    "\n",
    "if 1 <= n <= 10000:                                                        # Здесь мы задаем условие, для N можно сказать валидация входных данных \n",
    "    \n",
    "    for i in range(0, n):                                                  # А вот и сам цикл который находит разницу между числами с помощью встроенной функции\n",
    "        if str(abs(int(input_data[i]) - int(input_data[i+1]))) in list_n:  # abs, без нее будет сложно с минусами работать. Проверяет если есть совпадения то  \n",
    "            a = str(abs(int(input_data[i]) - int(input_data[i+1])))        # находит индекс в списке и удаляет по индексу совпадение\n",
    "            b = list_n.index(a)\n",
    "            list_n.pop(b)\n",
    "                \n",
    "    \n",
    "            \n",
    "\n",
    "if len(input_data) == 1:                                                   # Ну и вишенка после цикла проверяем условия которые нам удовлетворяют и выводим результат\n",
    "    print(\"Jolly\")\n",
    "elif len(list_n) == 0:\n",
    "    print(\"Jolly\")\n",
    "else:\n",
    "    print(\"Not jolly\")\n"
   ]
  }
 ],
 "metadata": {
  "kernelspec": {
   "display_name": "Python 3",
   "language": "python",
   "name": "python3"
  },
  "language_info": {
   "codemirror_mode": {
    "name": "ipython",
    "version": 3
   },
   "file_extension": ".py",
   "mimetype": "text/x-python",
   "name": "python",
   "nbconvert_exporter": "python",
   "pygments_lexer": "ipython3",
   "version": "3.10.6"
  },
  "orig_nbformat": 4
 },
 "nbformat": 4,
 "nbformat_minor": 2
}
