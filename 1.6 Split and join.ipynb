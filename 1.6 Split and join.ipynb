{
 "cells": [
  {
   "cell_type": "code",
   "execution_count": 28,
   "metadata": {},
   "outputs": [
    {
     "name": "stdout",
     "output_type": "stream",
     "text": [
      "string_with_multi_spacese"
     ]
    }
   ],
   "source": [
    "\"\"\"\n",
    "В какой-то момент вам надоело использовать имена файлов с пробелами и вы решили написать программу, которая переименовывает все файлы, содержащие пробелы в имени, заменив группы пробелов на символ подчёркивания \"_\".\n",
    "\n",
    "Для начала нужно написать программу, которая считывает строку и заменяет в ней группы пробельных символов на символ подчёркивания.\n",
    "\n",
    "Формат ввода:\n",
    "Одна строка, содержащая произвольные символы, в том числе и пробельные.\n",
    "\n",
    "Формат вывода:\n",
    "Преобразованная строка.\n",
    "\"\"\"\n",
    "\n",
    "input_data = input().split()\n",
    "\n",
    "if len(input_data) == 1:        # if single word\n",
    "    print(*input_data)\n",
    "\n",
    "elif len(input_data) > 1:       # if more single word\n",
    "    for i in input_data:\n",
    "        if i != input_data[-1]: \n",
    "            print(i, end=\"_\")\n",
    "        else:                   # if last word, that don't backspace\n",
    "            print(i, end=\"\")"
   ]
  },
  {
   "cell_type": "code",
   "execution_count": 27,
   "metadata": {},
   "outputs": [
    {
     "name": "stdout",
     "output_type": "stream",
     "text": [
      "single\n"
     ]
    }
   ],
   "source": [
    "\"\"\"Test version\"\"\"\n",
    "\n",
    "input_data = \"single\".split()\n",
    "\n",
    "if len(input_data) == 1:\n",
    "    print(*input_data)\n",
    "\n",
    "elif len(input_data) > 1:\n",
    "    for i in input_data:\n",
    "        if i != input_data[-1]:\n",
    "            print(i, end=\"_\")\n",
    "        else:\n",
    "            print(i, end=\"\")\n",
    "\n",
    "\n"
   ]
  }
 ],
 "metadata": {
  "kernelspec": {
   "display_name": "Python 3",
   "language": "python",
   "name": "python3"
  },
  "language_info": {
   "codemirror_mode": {
    "name": "ipython",
    "version": 3
   },
   "file_extension": ".py",
   "mimetype": "text/x-python",
   "name": "python",
   "nbconvert_exporter": "python",
   "pygments_lexer": "ipython3",
   "version": "3.10.6"
  },
  "orig_nbformat": 4
 },
 "nbformat": 4,
 "nbformat_minor": 2
}
