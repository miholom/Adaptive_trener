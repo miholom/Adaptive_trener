{
 "cells": [
  {
   "cell_type": "code",
   "execution_count": 15,
   "metadata": {},
   "outputs": [
    {
     "name": "stdout",
     "output_type": "stream",
     "text": [
      "x---------------x\n",
      "|      --   --  |\n",
      "|   |    |    | |\n",
      "|   |    |    | |\n",
      "|      --   --  |\n",
      "|   | |       | |\n",
      "|   | |       | |\n",
      "|      --   --  |\n",
      "x---------------x\n"
     ]
    }
   ],
   "source": [
    "\"\"\"\n",
    "Напишите программу, которая выводит число в стиле LCD калькулятора.\n",
    "На вход программе подаётся последовательность цифр, которую нужно вывести на экран в специальном стиле (см. пример).\n",
    "Размер всех цифр 4 символа в ширину и 7 символов в высоту. Между цифрами в выводе должен быть один пустой столбец. Перед первой цифрой не должно быть пробелов.\n",
    "Выведенные цифры должны быть обведены рамочкой, в углах которой находится символ x (\"икс\"), горизонтальная линия создаётся из символа - (\"дефис\"), \n",
    "а вертикальная -- из символа вертикальной черты: |.\n",
    "\"\"\"\n",
    "input_data: str = input()                              # блок ввода \n",
    "input_data.split()\n",
    "\n",
    "\n",
    "a1 = ' -- '                                            # словарь цифр \n",
    "a2 = '|  |'\n",
    "a3 = '    '\n",
    "a4 = '   |'\n",
    "a5 = '|   '\n",
    "a6 = ' '\n",
    "\n",
    "d = {'0': [a1, a2, a2, a3, a2, a2, a1],\n",
    "     '1': [a3, a4, a4, a3, a4, a4, a3],\n",
    "     '2': [a1, a4, a4, a1, a5, a5, a1],\n",
    "     '3': [a1, a4, a4, a1, a4, a4, a1],\n",
    "     '4': [a3, a2, a2, a1, a4, a4, a3],\n",
    "     '5': [a1, a5, a5, a1, a4, a4, a1],\n",
    "     '6': [a1, a5, a5, a1, a2, a2, a1],\n",
    "     '7': [a1, a4, a4, a3, a4, a4, a3],\n",
    "     '8': [a1, a2, a2, a1, a2, a2, a1],\n",
    "     '9': [a1, a2, a2, a1, a4, a4, a1],\n",
    "     }\n",
    "\n",
    "\n",
    "\n",
    "print('x'+5*(len(input_data))*'-'+'x')                 # первая строка с полосками\n",
    "\n",
    "\n",
    "for index in range(0, 7):                              # Блок вывода на экран цифр, первый цикл с количеством значений в словаре, второй это перебор по словарю в строку \n",
    "    print(\"|\", end=\"\")\n",
    "    for i in input_data:\n",
    "        print(d[i][index], end=\" \")\n",
    "    print(\"|\", end=\"\")\n",
    "    print()\n",
    "    \n",
    "\n",
    "print('x'+5*(len(input_data))*'-'+'x')                 # последняя строка с полосками"
   ]
  },
  {
   "cell_type": "code",
   "execution_count": 16,
   "metadata": {},
   "outputs": [
    {
     "name": "stdout",
     "output_type": "stream",
     "text": [
      "x-------------------------x\n",
      "| --        --   --       |\n",
      "||  |    |    |    | |  | |\n",
      "||  |    |    |    | |  | |\n",
      "|           --   --   --  |\n",
      "||  |    | |       |    | |\n",
      "||  |    | |       |    | |\n",
      "| --        --   --       |\n",
      "x-------------------------x\n"
     ]
    }
   ],
   "source": [
    "\"\"\"Test version\"\"\"\n",
    "input_data = '01234'\n",
    "input_data.split()\n",
    "\n",
    "\n",
    "a1 = ' -- '\n",
    "a2 = '|  |'\n",
    "a3 = '    '\n",
    "a4 = '   |'\n",
    "a5 = '|   '\n",
    "a6 = ' '\n",
    "\n",
    "d = {'0': [a1, a2, a2, a3, a2, a2, a1],\n",
    "     '1': [a3, a4, a4, a3, a4, a4, a3],\n",
    "     '2': [a1, a4, a4, a1, a5, a5, a1],\n",
    "     '3': [a1, a4, a4, a1, a4, a4, a1],\n",
    "     '4': [a3, a2, a2, a1, a4, a4, a3],\n",
    "     '5': [a1, a5, a5, a1, a4, a4, a1],\n",
    "     '6': [a1, a5, a5, a1, a2, a2, a1],\n",
    "     '7': [a1, a4, a4, a3, a4, a4, a3],\n",
    "     '8': [a1, a2, a2, a1, a2, a2, a1],\n",
    "     '9': [a1, a2, a2, a1, a4, a4, a1],\n",
    "     }\n",
    "\n",
    "\n",
    "\n",
    "print('x'+5*(len(input_data))*'-'+'x')\n",
    "\n",
    "\n",
    "for index in range(0, 7):\n",
    "    print(\"|\", end=\"\")\n",
    "    for i in input_data:\n",
    "        print(d[i][index], end=\" \")\n",
    "    print(\"|\", end=\"\")\n",
    "    print()\n",
    "    \n",
    "\n",
    "print('x'+5*(len(input_data))*'-'+'x')"
   ]
  }
 ],
 "metadata": {
  "kernelspec": {
   "display_name": "Python 3",
   "language": "python",
   "name": "python3"
  },
  "language_info": {
   "codemirror_mode": {
    "name": "ipython",
    "version": 3
   },
   "file_extension": ".py",
   "mimetype": "text/x-python",
   "name": "python",
   "nbconvert_exporter": "python",
   "pygments_lexer": "ipython3",
   "version": "3.10.6"
  },
  "orig_nbformat": 4
 },
 "nbformat": 4,
 "nbformat_minor": 2
}
