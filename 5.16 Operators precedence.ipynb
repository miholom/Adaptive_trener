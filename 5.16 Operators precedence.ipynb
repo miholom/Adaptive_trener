{
 "cells": [
  {
   "cell_type": "code",
   "execution_count": null,
   "metadata": {},
   "outputs": [],
   "source": [
    "\"\"\"\n",
    "Расставьте скобки в выражении \n",
    "\n",
    "a and b or not a and not b\n",
    "\n",
    "в соответствии с порядком вычисления выражения (приоритетом операций). Всего потребуется 5 пар скобок (внешние скобки входят в их число).\n",
    "\"\"\"\n",
    "\n",
    "((a and b) or ((not a) and (not b)))"
   ]
  }
 ],
 "metadata": {
  "language_info": {
   "name": "python"
  },
  "orig_nbformat": 4
 },
 "nbformat": 4,
 "nbformat_minor": 2
}
